{
 "cells": [
  {
   "cell_type": "markdown",
   "id": "babb44bf",
   "metadata": {},
   "source": [
    "# Import"
   ]
  },
  {
   "cell_type": "code",
   "execution_count": 172,
   "id": "1e47b359",
   "metadata": {},
   "outputs": [],
   "source": [
    "import pandas as pd\n",
    "import numpy as np\n",
    "from sklearn.preprocessing import StandardScaler\n",
    "from sklearn.model_selection import cross_val_score\n",
    "from sklearn.model_selection import train_test_split\n",
    "from sklearn.linear_model import LinearRegression\n",
    "from sklearn.metrics import mean_squared_error, r2_score\n",
    "import matplotlib.pyplot as plt"
   ]
  },
  {
   "cell_type": "markdown",
   "id": "9d6ab8c6",
   "metadata": {},
   "source": [
    "# Dataset"
   ]
  },
  {
   "cell_type": "code",
   "execution_count": 148,
   "id": "a154ea23",
   "metadata": {},
   "outputs": [
    {
     "name": "stdout",
     "output_type": "stream",
     "text": [
      "<class 'pandas.core.frame.DataFrame'>\n",
      "RangeIndex: 1338 entries, 0 to 1337\n",
      "Data columns (total 7 columns):\n",
      " #   Column    Non-Null Count  Dtype  \n",
      "---  ------    --------------  -----  \n",
      " 0   age       1272 non-null   float64\n",
      " 1   sex       1272 non-null   object \n",
      " 2   bmi       1272 non-null   float64\n",
      " 3   children  1272 non-null   float64\n",
      " 4   smoker    1272 non-null   object \n",
      " 5   region    1272 non-null   object \n",
      " 6   charges   1284 non-null   object \n",
      "dtypes: float64(3), object(4)\n",
      "memory usage: 73.3+ KB\n"
     ]
    },
    {
     "data": {
      "text/html": [
       "<div>\n",
       "<style scoped>\n",
       "    .dataframe tbody tr th:only-of-type {\n",
       "        vertical-align: middle;\n",
       "    }\n",
       "\n",
       "    .dataframe tbody tr th {\n",
       "        vertical-align: top;\n",
       "    }\n",
       "\n",
       "    .dataframe thead th {\n",
       "        text-align: right;\n",
       "    }\n",
       "</style>\n",
       "<table border=\"1\" class=\"dataframe\">\n",
       "  <thead>\n",
       "    <tr style=\"text-align: right;\">\n",
       "      <th></th>\n",
       "      <th>age</th>\n",
       "      <th>sex</th>\n",
       "      <th>bmi</th>\n",
       "      <th>children</th>\n",
       "      <th>smoker</th>\n",
       "      <th>region</th>\n",
       "      <th>charges</th>\n",
       "    </tr>\n",
       "  </thead>\n",
       "  <tbody>\n",
       "    <tr>\n",
       "      <th>1211</th>\n",
       "      <td>39.0</td>\n",
       "      <td>man</td>\n",
       "      <td>34.100</td>\n",
       "      <td>2.0</td>\n",
       "      <td>no</td>\n",
       "      <td>southeast</td>\n",
       "      <td>23563.01618</td>\n",
       "    </tr>\n",
       "    <tr>\n",
       "      <th>1208</th>\n",
       "      <td>37.0</td>\n",
       "      <td>female</td>\n",
       "      <td>25.555</td>\n",
       "      <td>1.0</td>\n",
       "      <td>yes</td>\n",
       "      <td>Northeast</td>\n",
       "      <td>20296.86345</td>\n",
       "    </tr>\n",
       "    <tr>\n",
       "      <th>731</th>\n",
       "      <td>53.0</td>\n",
       "      <td>male</td>\n",
       "      <td>21.400</td>\n",
       "      <td>1.0</td>\n",
       "      <td>no</td>\n",
       "      <td>southwest</td>\n",
       "      <td>$10065.413</td>\n",
       "    </tr>\n",
       "    <tr>\n",
       "      <th>677</th>\n",
       "      <td>60.0</td>\n",
       "      <td>male</td>\n",
       "      <td>31.350</td>\n",
       "      <td>3.0</td>\n",
       "      <td>yes</td>\n",
       "      <td>Northwest</td>\n",
       "      <td>46130.5265</td>\n",
       "    </tr>\n",
       "    <tr>\n",
       "      <th>183</th>\n",
       "      <td>44.0</td>\n",
       "      <td>female</td>\n",
       "      <td>26.410</td>\n",
       "      <td>0.0</td>\n",
       "      <td>no</td>\n",
       "      <td>Northwest</td>\n",
       "      <td>$7419.4779</td>\n",
       "    </tr>\n",
       "    <tr>\n",
       "      <th>119</th>\n",
       "      <td>37.0</td>\n",
       "      <td>female</td>\n",
       "      <td>23.370</td>\n",
       "      <td>2.0</td>\n",
       "      <td>no</td>\n",
       "      <td>northwest</td>\n",
       "      <td>6686.4313</td>\n",
       "    </tr>\n",
       "    <tr>\n",
       "      <th>755</th>\n",
       "      <td>NaN</td>\n",
       "      <td>male</td>\n",
       "      <td>NaN</td>\n",
       "      <td>2.0</td>\n",
       "      <td>no</td>\n",
       "      <td>NaN</td>\n",
       "      <td>5031.26955</td>\n",
       "    </tr>\n",
       "    <tr>\n",
       "      <th>691</th>\n",
       "      <td>-47.0</td>\n",
       "      <td>male</td>\n",
       "      <td>36.200</td>\n",
       "      <td>-1.0</td>\n",
       "      <td>no</td>\n",
       "      <td>southwest</td>\n",
       "      <td>$8068.185</td>\n",
       "    </tr>\n",
       "    <tr>\n",
       "      <th>17</th>\n",
       "      <td>-23.0</td>\n",
       "      <td>male</td>\n",
       "      <td>23.845</td>\n",
       "      <td>0.0</td>\n",
       "      <td>no</td>\n",
       "      <td>northeast</td>\n",
       "      <td>$2395.17155</td>\n",
       "    </tr>\n",
       "    <tr>\n",
       "      <th>445</th>\n",
       "      <td>-45.0</td>\n",
       "      <td>female</td>\n",
       "      <td>33.100</td>\n",
       "      <td>0.0</td>\n",
       "      <td>no</td>\n",
       "      <td>Southwest</td>\n",
       "      <td>7345.084</td>\n",
       "    </tr>\n",
       "  </tbody>\n",
       "</table>\n",
       "</div>"
      ],
      "text/plain": [
       "       age     sex     bmi  children smoker     region      charges\n",
       "1211  39.0     man  34.100       2.0     no  southeast  23563.01618\n",
       "1208  37.0  female  25.555       1.0    yes  Northeast  20296.86345\n",
       "731   53.0    male  21.400       1.0     no  southwest   $10065.413\n",
       "677   60.0    male  31.350       3.0    yes  Northwest   46130.5265\n",
       "183   44.0  female  26.410       0.0     no  Northwest   $7419.4779\n",
       "119   37.0  female  23.370       2.0     no  northwest    6686.4313\n",
       "755    NaN    male     NaN       2.0     no        NaN   5031.26955\n",
       "691  -47.0    male  36.200      -1.0     no  southwest    $8068.185\n",
       "17   -23.0    male  23.845       0.0     no  northeast  $2395.17155\n",
       "445  -45.0  female  33.100       0.0     no  Southwest     7345.084"
      ]
     },
     "execution_count": 148,
     "metadata": {},
     "output_type": "execute_result"
    }
   ],
   "source": [
    "insurance = pd.read_csv('../Dataset/data/insurance.csv')\n",
    "insurance.info()\n",
    "insurance.sample(10)"
   ]
  },
  {
   "cell_type": "markdown",
   "id": "74698af9",
   "metadata": {},
   "source": [
    "# Step-1 : Data Cleaning"
   ]
  },
  {
   "cell_type": "code",
   "execution_count": null,
   "id": "e039979d",
   "metadata": {},
   "outputs": [],
   "source": [
    "insurance_filled = insurance.dropna().copy()\n",
    "insurance_filled['region'] = insurance_filled['region'].str.lower()\n",
    "\n",
    "\n",
    "FEMALE = 'female'\n",
    "MALE = 'male'\n",
    "\n",
    "sex_map = {\n",
    "    'F' : FEMALE,  \n",
    "    'woman' : FEMALE,\n",
    "    'man' : MALE,\n",
    "    'M' : MALE\n",
    "}\n",
    "insurance_filled['sex'] = insurance_filled['sex'].replace(sex_map)\n",
    "\n",
    "insurance_filled['smoker'] = (insurance_filled['smoker'] == 'yes')\n",
    "\n",
    "insurance_filled['charges'] = insurance_filled['charges'].str.strip('$').astype('float64')\n",
    "\n",
    "insurance_filled['age'] = abs(insurance_filled['age']).astype('int64')\n",
    "\n",
    "insurance_filled.to_csv('../Dataset/data/insurance_cleaned.csv', index=False)"
   ]
  },
  {
   "cell_type": "markdown",
   "id": "4a2fd7ca",
   "metadata": {},
   "source": [
    "# Step-2: Scatterplots to view the relationship between"
   ]
  },
  {
   "cell_type": "code",
   "execution_count": 146,
   "id": "b887d91b",
   "metadata": {},
   "outputs": [
    {
     "data": {
      "image/png": "[encoded data removed]",
      "text/plain": [
       "<Figure size 640x480 with 1 Axes>"
      ]
     },
     "metadata": {},
     "output_type": "display_data"
    }
   ],
   "source": [
    "plt.scatter(insurance_filled['bmi'], insurance_filled['charges'])\n",
    "\n",
    "plt.tight_layout()\n",
    "plt.show()"
   ]
  },
  {
   "cell_type": "markdown",
   "id": "1ee0138f",
   "metadata": {},
   "source": [
    "# Step-3: Prepare Data for Model Training"
   ]
  },
  {
   "cell_type": "code",
   "execution_count": 188,
   "id": "125eb18a",
   "metadata": {},
   "outputs": [
    {
     "name": "stdout",
     "output_type": "stream",
     "text": [
      "<class 'pandas.core.frame.DataFrame'>\n",
      "Index: 1207 entries, 0 to 1337\n",
      "Data columns (total 10 columns):\n",
      " #   Column            Non-Null Count  Dtype  \n",
      "---  ------            --------------  -----  \n",
      " 0   age               1207 non-null   int64  \n",
      " 1   bmi               1207 non-null   float64\n",
      " 2   children          1207 non-null   float64\n",
      " 3   smoker            1207 non-null   int64  \n",
      " 4   charges           1207 non-null   float64\n",
      " 5   region_northeast  1207 non-null   int64  \n",
      " 6   region_northwest  1207 non-null   int64  \n",
      " 7   region_southeast  1207 non-null   int64  \n",
      " 8   region_southwest  1207 non-null   int64  \n",
      " 9   is_male           1207 non-null   int64  \n",
      "dtypes: float64(3), int64(7)\n",
      "memory usage: 103.7 KB\n"
     ]
    }
   ],
   "source": [
    "df = pd.get_dummies(insurance_filled, prefix=['region'], columns=['region'], dtype='int64')\n",
    "df.drop(columns=['region_southeast'])\n",
    "\n",
    "df['smoker'] = df['smoker'].astype('int64')\n",
    "df['is_male'] = (df['sex'] == 'male').astype('int64')\n",
    "df = df.drop(columns=['sex'])\n",
    "df = df.dropna()\n",
    "df.info()"
   ]
  },
  {
   "cell_type": "markdown",
   "id": "6c776e69",
   "metadata": {},
   "source": [
    "# Step-4: Fit a Linear Regression model to our Data"
   ]
  },
  {
   "cell_type": "code",
   "execution_count": 194,
   "id": "08feb9ad",
   "metadata": {},
   "outputs": [
    {
     "data": {
      "text/plain": [
       "0.7048413291217552"
      ]
     },
     "execution_count": 194,
     "metadata": {},
     "output_type": "execute_result"
    }
   ],
   "source": [
    "X = df.drop(columns=['charges'])\n",
    "y = df['charges']\n",
    "\n",
    "X_train, X_test, y_train, y_test = train_test_split(X, y, test_size=0.2, random_state=42)\n",
    "\n",
    "model = LinearRegression()\n",
    "\n",
    "model.fit(X_train, y_train)\n",
    "\n",
    "y_pred = model.predict(X_test)\n",
    "\n",
    "mse = mean_squared_error(y_test, y_pred)\n",
    "r2 = r2_score(y_test, y_pred)\n",
    "\n",
    "mse\n",
    "r2"
   ]
  },
  {
   "cell_type": "markdown",
   "id": "c63cfa72",
   "metadata": {},
   "source": [
    "# Test Data with the validation set"
   ]
  },
  {
   "cell_type": "code",
   "execution_count": 208,
   "id": "a1459dd4",
   "metadata": {},
   "outputs": [],
   "source": [
    "def preprocess_df(input_dataframe, reference_training_columns):\n",
    "    df_processed = input_dataframe.copy()\n",
    "    if 'smoker' in df_processed.columns:\n",
    "        df_processed['smoker'] = (df_processed['smoker'] == 'yes').astype('int64')\n",
    "    \n",
    "    if 'sex' in df_processed.columns:\n",
    "        df_processed['is_male'] = (df_processed['sex'] == 'male').astype('int64')\n",
    "        df_processed = df_processed.drop(columns=['sex'])\n",
    "\n",
    "    if 'region' in df_processed.columns:\n",
    "        df_processed = pd.get_dummies(df_processed, prefix='region', columns=['region'], dtype='int64')\n",
    "\n",
    "    for col in reference_training_columns:\n",
    "        if col not in df_processed.columns:\n",
    "            df_processed[col] = 0\n",
    "\n",
    "    df_processed = df_processed[reference_training_columns]\n",
    "    \n",
    "    return df_processed"
   ]
  },
  {
   "cell_type": "code",
   "execution_count": 212,
   "id": "65d2c99d",
   "metadata": {},
   "outputs": [
    {
     "name": "stdout",
     "output_type": "stream",
     "text": [
      "    age     sex        bmi  children smoker     region  predicted_charges\n",
      "0  18.0  female  24.090000       1.0     no  southeast        1000.000000\n",
      "1  39.0    male  26.410000       0.0    yes  northeast       31133.450387\n",
      "2  27.0    male  29.150000       0.0    yes  southeast       27965.611569\n",
      "3  71.0    male  65.502135      13.0    yes  southeast       55748.823085\n",
      "4  28.0    male  38.060000       0.0     no  southeast        6867.894254\n"
     ]
    }
   ],
   "source": [
    "val_df = pd.read_csv('../Dataset/data/validation_dataset.csv')\n",
    "if 'X_train' in locals():\n",
    "    input_df = preprocess_df(val_df, X_train.columns) \n",
    "\n",
    "    predictions = model.predict(input_df)\n",
    "\n",
    "    validation_data = val_df.copy()\n",
    "    validation_data['predicted_charges'] = predictions\n",
    "\n",
    "    validation_data.loc[validation_data['predicted_charges'] < 1000, 'predicted_charges'] = 1000\n",
    "    print(validation_data.head())\n"
   ]
  }
 ],
 "metadata": {
  "kernelspec": {
   "display_name": ".venv",
   "language": "python",
   "name": "python3"
  },
  "language_info": {
   "codemirror_mode": {
    "name": "ipython",
    "version": 3
   },
   "file_extension": ".py",
   "mimetype": "text/x-python",
   "name": "python",
   "nbconvert_exporter": "python",
   "pygments_lexer": "ipython3",
   "version": "3.13.3"
  }
 },
 "nbformat": 4,
 "nbformat_minor": 5
}
