{
  "nbformat": 4,
  "nbformat_minor": 0,
  "metadata": {
    "colab": {
      "provenance": [],
      "authorship_tag": "ABX9TyOldVw0WU2LuMVsOqa6HYaE",
      "include_colab_link": true
    },
    "kernelspec": {
      "name": "python3",
      "display_name": "Python 3"
    },
    "language_info": {
      "name": "python"
    }
  },
  "cells": [
    {
      "cell_type": "markdown",
      "metadata": {
        "id": "view-in-github",
        "colab_type": "text"
      },
      "source": [
        "<a href=\"https://colab.research.google.com/github/MahmudGalib7/AI-Olympiad/blob/master/In_to_Machine_Learning.ipynb\" target=\"_parent\"><img src=\"https://colab.research.google.com/assets/colab-badge.svg\" alt=\"Open In Colab\"/></a>"
      ]
    },
    {
      "cell_type": "code",
      "execution_count": 1,
      "metadata": {
        "id": "qwHOU_oZCzQh"
      },
      "outputs": [],
      "source": [
        "import pandas as pd\n",
        "from sklearn.linear_model import LinearRegression"
      ]
    },
    {
      "cell_type": "code",
      "source": [
        "sample_data = {\n",
        "    \"hours\" : [2, 3, 4, 5, 6, 8, 10, 12, 16],\n",
        "    \"exam_score\" : [40, 50, 55, 60, 70, 80, 85, 90, 95]\n",
        "}"
      ],
      "metadata": {
        "id": "CpfemKR5FCS9"
      },
      "execution_count": 12,
      "outputs": []
    },
    {
      "cell_type": "code",
      "source": [
        "df = pd.DataFrame(sample_data)\n",
        "x = df[['hours']]\n",
        "y = df['exam_score']"
      ],
      "metadata": {
        "id": "3jtn7EmDE7_e"
      },
      "execution_count": 13,
      "outputs": []
    },
    {
      "cell_type": "code",
      "source": [
        "model = LinearRegression()\n",
        "model.fit(x, y)\n",
        "prediction = model.predict([[18]])\n",
        "prediction[0]\n",
        "model.coef_[0]\n",
        "model.intercept_"
      ],
      "metadata": {
        "colab": {
          "base_uri": "https://localhost:8080/"
        },
        "id": "wd9pMWTEGyI_",
        "outputId": "9c90a34a-291b-4ba0-af37-a33ccf96c626"
      },
      "execution_count": 33,
      "outputs": [
        {
          "output_type": "stream",
          "name": "stderr",
          "text": [
            "/usr/local/lib/python3.11/dist-packages/sklearn/utils/validation.py:2739: UserWarning: X does not have valid feature names, but LinearRegression was fitted with feature names\n",
            "  warnings.warn(\n"
          ]
        },
        {
          "output_type": "execute_result",
          "data": {
            "text/plain": [
              "np.float64(40.25490196078431)"
            ]
          },
          "metadata": {},
          "execution_count": 33
        }
      ]
    }
  ]
}