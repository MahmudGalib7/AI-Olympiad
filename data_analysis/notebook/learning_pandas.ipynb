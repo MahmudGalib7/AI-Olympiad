{
  "cells": [
    {
      "cell_type": "markdown",
      "metadata": {
        "colab_type": "text",
        "id": "view-in-github"
      },
      "source": [
        "<a href=\"https://colab.research.google.com/github/MahmudGalib7/AI-Olympiad/blob/master/data_analysis/notebook/learning_pandas.ipynb\" target=\"_parent\"><img src=\"https://colab.research.google.com/assets/colab-badge.svg\" alt=\"Open In Colab\"/></a>"
      ]
    },
    {
      "cell_type": "code",
      "execution_count": null,
      "metadata": {
        "colab": {
          "base_uri": "https://localhost:8080/"
        },
        "id": "vudgJyjAhqOB",
        "outputId": "0f1e1eeb-0782-46d5-e4d7-182842889ce3"
      },
      "outputs": [],
      "source": [
        "from google.colab import drive\n",
        "drive.mount('/content/drive')"
      ]
    },
    {
      "cell_type": "code",
      "execution_count": 1,
      "metadata": {
        "id": "6JxR_ap55el1"
      },
      "outputs": [],
      "source": [
        "import pandas as pd\n",
        "import numpy as np"
      ]
    },
    {
      "cell_type": "markdown",
      "metadata": {
        "id": "VsWa2StBiAnw"
      },
      "source": [
        "# Basic Operations"
      ]
    },
    {
      "cell_type": "code",
      "execution_count": 2,
      "metadata": {
        "id": "RXFJxp2lNC24"
      },
      "outputs": [],
      "source": [
        "df = pd.DataFrame([[1,2,3],[4,5,6],[7,8,9],[10,11,12]], columns=[\"A\", \"B\", \"C\"], index=[\"x\", \"y\", \"z\", \"zz\"])"
      ]
    },
    {
      "cell_type": "code",
      "execution_count": 3,
      "metadata": {},
      "outputs": [
        {
          "data": {
            "application/vnd.microsoft.datawrangler.viewer.v0+json": {
              "columns": [
                {
                  "name": "index",
                  "rawType": "object",
                  "type": "string"
                },
                {
                  "name": "A",
                  "rawType": "int64",
                  "type": "integer"
                },
                {
                  "name": "B",
                  "rawType": "int64",
                  "type": "integer"
                },
                {
                  "name": "C",
                  "rawType": "int64",
                  "type": "integer"
                }
              ],
              "ref": "3680e4e7-b6c8-4107-a790-86ce5e1e2bfc",
              "rows": [
                [
                  "x",
                  "1",
                  "2",
                  "3"
                ],
                [
                  "y",
                  "4",
                  "5",
                  "6"
                ],
                [
                  "z",
                  "7",
                  "8",
                  "9"
                ],
                [
                  "zz",
                  "10",
                  "11",
                  "12"
                ]
              ],
              "shape": {
                "columns": 3,
                "rows": 4
              }
            },
            "text/html": [
              "<div>\n",
              "<style scoped>\n",
              "    .dataframe tbody tr th:only-of-type {\n",
              "        vertical-align: middle;\n",
              "    }\n",
              "\n",
              "    .dataframe tbody tr th {\n",
              "        vertical-align: top;\n",
              "    }\n",
              "\n",
              "    .dataframe thead th {\n",
              "        text-align: right;\n",
              "    }\n",
              "</style>\n",
              "<table border=\"1\" class=\"dataframe\">\n",
              "  <thead>\n",
              "    <tr style=\"text-align: right;\">\n",
              "      <th></th>\n",
              "      <th>A</th>\n",
              "      <th>B</th>\n",
              "      <th>C</th>\n",
              "    </tr>\n",
              "  </thead>\n",
              "  <tbody>\n",
              "    <tr>\n",
              "      <th>x</th>\n",
              "      <td>1</td>\n",
              "      <td>2</td>\n",
              "      <td>3</td>\n",
              "    </tr>\n",
              "    <tr>\n",
              "      <th>y</th>\n",
              "      <td>4</td>\n",
              "      <td>5</td>\n",
              "      <td>6</td>\n",
              "    </tr>\n",
              "    <tr>\n",
              "      <th>z</th>\n",
              "      <td>7</td>\n",
              "      <td>8</td>\n",
              "      <td>9</td>\n",
              "    </tr>\n",
              "    <tr>\n",
              "      <th>zz</th>\n",
              "      <td>10</td>\n",
              "      <td>11</td>\n",
              "      <td>12</td>\n",
              "    </tr>\n",
              "  </tbody>\n",
              "</table>\n",
              "</div>"
            ],
            "text/plain": [
              "     A   B   C\n",
              "x    1   2   3\n",
              "y    4   5   6\n",
              "z    7   8   9\n",
              "zz  10  11  12"
            ]
          },
          "execution_count": 3,
          "metadata": {},
          "output_type": "execute_result"
        }
      ],
      "source": [
        "df"
      ]
    },
    {
      "cell_type": "code",
      "execution_count": 4,
      "metadata": {
        "id": "D89LkfbwNb_t"
      },
      "outputs": [
        {
          "data": {
            "application/vnd.microsoft.datawrangler.viewer.v0+json": {
              "columns": [
                {
                  "name": "index",
                  "rawType": "object",
                  "type": "string"
                },
                {
                  "name": "A",
                  "rawType": "int64",
                  "type": "integer"
                },
                {
                  "name": "B",
                  "rawType": "int64",
                  "type": "integer"
                },
                {
                  "name": "C",
                  "rawType": "int64",
                  "type": "integer"
                }
              ],
              "ref": "28078d35-cf80-492f-bfe8-a95bba32a3ad",
              "rows": [
                [
                  "x",
                  "1",
                  "2",
                  "3"
                ],
                [
                  "y",
                  "4",
                  "5",
                  "6"
                ],
                [
                  "z",
                  "7",
                  "8",
                  "9"
                ],
                [
                  "zz",
                  "10",
                  "11",
                  "12"
                ]
              ],
              "shape": {
                "columns": 3,
                "rows": 4
              }
            },
            "text/html": [
              "<div>\n",
              "<style scoped>\n",
              "    .dataframe tbody tr th:only-of-type {\n",
              "        vertical-align: middle;\n",
              "    }\n",
              "\n",
              "    .dataframe tbody tr th {\n",
              "        vertical-align: top;\n",
              "    }\n",
              "\n",
              "    .dataframe thead th {\n",
              "        text-align: right;\n",
              "    }\n",
              "</style>\n",
              "<table border=\"1\" class=\"dataframe\">\n",
              "  <thead>\n",
              "    <tr style=\"text-align: right;\">\n",
              "      <th></th>\n",
              "      <th>A</th>\n",
              "      <th>B</th>\n",
              "      <th>C</th>\n",
              "    </tr>\n",
              "  </thead>\n",
              "  <tbody>\n",
              "    <tr>\n",
              "      <th>x</th>\n",
              "      <td>1</td>\n",
              "      <td>2</td>\n",
              "      <td>3</td>\n",
              "    </tr>\n",
              "    <tr>\n",
              "      <th>y</th>\n",
              "      <td>4</td>\n",
              "      <td>5</td>\n",
              "      <td>6</td>\n",
              "    </tr>\n",
              "    <tr>\n",
              "      <th>z</th>\n",
              "      <td>7</td>\n",
              "      <td>8</td>\n",
              "      <td>9</td>\n",
              "    </tr>\n",
              "    <tr>\n",
              "      <th>zz</th>\n",
              "      <td>10</td>\n",
              "      <td>11</td>\n",
              "      <td>12</td>\n",
              "    </tr>\n",
              "  </tbody>\n",
              "</table>\n",
              "</div>"
            ],
            "text/plain": [
              "     A   B   C\n",
              "x    1   2   3\n",
              "y    4   5   6\n",
              "z    7   8   9\n",
              "zz  10  11  12"
            ]
          },
          "execution_count": 4,
          "metadata": {},
          "output_type": "execute_result"
        }
      ],
      "source": [
        "df.head()"
      ]
    },
    {
      "cell_type": "code",
      "execution_count": 5,
      "metadata": {
        "id": "6iWBXvVZNlrg"
      },
      "outputs": [
        {
          "data": {
            "application/vnd.microsoft.datawrangler.viewer.v0+json": {
              "columns": [
                {
                  "name": "index",
                  "rawType": "object",
                  "type": "string"
                },
                {
                  "name": "A",
                  "rawType": "int64",
                  "type": "integer"
                },
                {
                  "name": "B",
                  "rawType": "int64",
                  "type": "integer"
                },
                {
                  "name": "C",
                  "rawType": "int64",
                  "type": "integer"
                }
              ],
              "ref": "6ac0f7a5-788c-4036-9622-b6856afe9527",
              "rows": [
                [
                  "x",
                  "1",
                  "2",
                  "3"
                ],
                [
                  "y",
                  "4",
                  "5",
                  "6"
                ],
                [
                  "z",
                  "7",
                  "8",
                  "9"
                ],
                [
                  "zz",
                  "10",
                  "11",
                  "12"
                ]
              ],
              "shape": {
                "columns": 3,
                "rows": 4
              }
            },
            "text/html": [
              "<div>\n",
              "<style scoped>\n",
              "    .dataframe tbody tr th:only-of-type {\n",
              "        vertical-align: middle;\n",
              "    }\n",
              "\n",
              "    .dataframe tbody tr th {\n",
              "        vertical-align: top;\n",
              "    }\n",
              "\n",
              "    .dataframe thead th {\n",
              "        text-align: right;\n",
              "    }\n",
              "</style>\n",
              "<table border=\"1\" class=\"dataframe\">\n",
              "  <thead>\n",
              "    <tr style=\"text-align: right;\">\n",
              "      <th></th>\n",
              "      <th>A</th>\n",
              "      <th>B</th>\n",
              "      <th>C</th>\n",
              "    </tr>\n",
              "  </thead>\n",
              "  <tbody>\n",
              "    <tr>\n",
              "      <th>x</th>\n",
              "      <td>1</td>\n",
              "      <td>2</td>\n",
              "      <td>3</td>\n",
              "    </tr>\n",
              "    <tr>\n",
              "      <th>y</th>\n",
              "      <td>4</td>\n",
              "      <td>5</td>\n",
              "      <td>6</td>\n",
              "    </tr>\n",
              "    <tr>\n",
              "      <th>z</th>\n",
              "      <td>7</td>\n",
              "      <td>8</td>\n",
              "      <td>9</td>\n",
              "    </tr>\n",
              "    <tr>\n",
              "      <th>zz</th>\n",
              "      <td>10</td>\n",
              "      <td>11</td>\n",
              "      <td>12</td>\n",
              "    </tr>\n",
              "  </tbody>\n",
              "</table>\n",
              "</div>"
            ],
            "text/plain": [
              "     A   B   C\n",
              "x    1   2   3\n",
              "y    4   5   6\n",
              "z    7   8   9\n",
              "zz  10  11  12"
            ]
          },
          "execution_count": 5,
          "metadata": {},
          "output_type": "execute_result"
        }
      ],
      "source": [
        "df.tail()"
      ]
    },
    {
      "cell_type": "code",
      "execution_count": 6,
      "metadata": {
        "id": "Jhy9XNFAhuLZ"
      },
      "outputs": [
        {
          "data": {
            "application/vnd.microsoft.datawrangler.viewer.v0+json": {
              "columns": [
                {
                  "name": "index",
                  "rawType": "object",
                  "type": "string"
                },
                {
                  "name": "A",
                  "rawType": "int64",
                  "type": "integer"
                },
                {
                  "name": "B",
                  "rawType": "int64",
                  "type": "integer"
                },
                {
                  "name": "C",
                  "rawType": "int64",
                  "type": "integer"
                }
              ],
              "ref": "853dfadf-166f-42da-99bc-80c284df4556",
              "rows": [
                [
                  "x",
                  "1",
                  "2",
                  "3"
                ],
                [
                  "y",
                  "4",
                  "5",
                  "6"
                ]
              ],
              "shape": {
                "columns": 3,
                "rows": 2
              }
            },
            "text/html": [
              "<div>\n",
              "<style scoped>\n",
              "    .dataframe tbody tr th:only-of-type {\n",
              "        vertical-align: middle;\n",
              "    }\n",
              "\n",
              "    .dataframe tbody tr th {\n",
              "        vertical-align: top;\n",
              "    }\n",
              "\n",
              "    .dataframe thead th {\n",
              "        text-align: right;\n",
              "    }\n",
              "</style>\n",
              "<table border=\"1\" class=\"dataframe\">\n",
              "  <thead>\n",
              "    <tr style=\"text-align: right;\">\n",
              "      <th></th>\n",
              "      <th>A</th>\n",
              "      <th>B</th>\n",
              "      <th>C</th>\n",
              "    </tr>\n",
              "  </thead>\n",
              "  <tbody>\n",
              "    <tr>\n",
              "      <th>x</th>\n",
              "      <td>1</td>\n",
              "      <td>2</td>\n",
              "      <td>3</td>\n",
              "    </tr>\n",
              "    <tr>\n",
              "      <th>y</th>\n",
              "      <td>4</td>\n",
              "      <td>5</td>\n",
              "      <td>6</td>\n",
              "    </tr>\n",
              "  </tbody>\n",
              "</table>\n",
              "</div>"
            ],
            "text/plain": [
              "   A  B  C\n",
              "x  1  2  3\n",
              "y  4  5  6"
            ]
          },
          "execution_count": 6,
          "metadata": {},
          "output_type": "execute_result"
        }
      ],
      "source": [
        "df.sample(2)"
      ]
    },
    {
      "cell_type": "code",
      "execution_count": null,
      "metadata": {
        "id": "ihfJZrNPRy6-"
      },
      "outputs": [],
      "source": [
        "df.columns"
      ]
    },
    {
      "cell_type": "code",
      "execution_count": null,
      "metadata": {
        "id": "vTFIpLj6Tt_d"
      },
      "outputs": [],
      "source": [
        "df.index\n",
        "df.index.tolist()"
      ]
    },
    {
      "cell_type": "code",
      "execution_count": null,
      "metadata": {
        "id": "EJisduS9UfdL"
      },
      "outputs": [],
      "source": [
        "df.info()"
      ]
    },
    {
      "cell_type": "code",
      "execution_count": null,
      "metadata": {
        "id": "DR-R5Lx1fsGw"
      },
      "outputs": [],
      "source": [
        "df.describe()"
      ]
    },
    {
      "cell_type": "code",
      "execution_count": null,
      "metadata": {
        "id": "DgRiLYJQjxBX"
      },
      "outputs": [],
      "source": [
        "df.nunique()"
      ]
    },
    {
      "cell_type": "code",
      "execution_count": null,
      "metadata": {
        "id": "-Z7FNBfHkWhE"
      },
      "outputs": [],
      "source": [
        "df['A'].nunique()"
      ]
    },
    {
      "cell_type": "code",
      "execution_count": null,
      "metadata": {
        "id": "sD7rhCAImyM7"
      },
      "outputs": [],
      "source": [
        "df.shape"
      ]
    },
    {
      "cell_type": "code",
      "execution_count": null,
      "metadata": {
        "id": "k3Btm7zps3VN"
      },
      "outputs": [],
      "source": [
        "df.size"
      ]
    },
    {
      "cell_type": "code",
      "execution_count": null,
      "metadata": {},
      "outputs": [],
      "source": [
        "df_new = df.copy()\n",
        "df_new.drop(columns=['A'], inplace=True)"
      ]
    },
    {
      "cell_type": "code",
      "execution_count": null,
      "metadata": {},
      "outputs": [],
      "source": [
        "df"
      ]
    },
    {
      "cell_type": "code",
      "execution_count": null,
      "metadata": {},
      "outputs": [],
      "source": [
        "df_new"
      ]
    },
    {
      "cell_type": "markdown",
      "metadata": {
        "id": "sRMrodFHiDf6"
      },
      "source": [
        "# Dataset"
      ]
    },
    {
      "cell_type": "code",
      "execution_count": 194,
      "metadata": {
        "id": "NmDLr-xnta9a"
      },
      "outputs": [],
      "source": [
        "# drive\n",
        "\n",
        "# coffee = pd.read_csv('/content/drive/MyDrive/AI-Olympiad Notebook/Data Science/Dataset/warmup-data/coffee.csv')\n",
        "# results = pd.read_parquet('/content/drive/MyDrive/AI-Olympiad Notebook/Data Science/Dataset/data/results.parquet')\n",
        "# olympics_data = pd.read_excel('/content/drive/MyDrive/AI-Olympiad Notebook/Data Science/Dataset/data/olympics-data.xlsx')\n",
        "# bios = pd.read_csv('/content/drive/MyDrive/AI-Olympiad Notebook/Data Science/Dataset/data/bios.csv')\n",
        "# nocs = pd.read_csv('/content/drive/MyDrive/AI-Olympiad Notebook/Data Science/Dataset/data/noc_regions.csv')\n",
        "\n",
        "# Local\n",
        "coffee = pd.read_csv('Dataset/warmup-data/coffee.csv')\n",
        "results = pd.read_parquet('Dataset/data/results.parquet')\n",
        "olympics_data = pd.read_excel('Dataset/data/olympics-data.xlsx')\n",
        "bios = pd.read_csv('Dataset/data/bios.csv')\n",
        "nocs = pd.read_csv('Dataset/data/noc_regions.csv')"
      ]
    },
    {
      "cell_type": "code",
      "execution_count": null,
      "metadata": {
        "id": "tLoM6L6RuLZJ"
      },
      "outputs": [],
      "source": [
        "coffee"
      ]
    },
    {
      "cell_type": "code",
      "execution_count": null,
      "metadata": {
        "id": "xp1cXlbKiw0R"
      },
      "outputs": [],
      "source": [
        "results"
      ]
    },
    {
      "cell_type": "code",
      "execution_count": null,
      "metadata": {
        "id": "Jya8DdOXixZt"
      },
      "outputs": [],
      "source": [
        "olympics_data"
      ]
    },
    {
      "cell_type": "code",
      "execution_count": null,
      "metadata": {
        "id": "jsb89JqKixot"
      },
      "outputs": [],
      "source": [
        "bios"
      ]
    },
    {
      "cell_type": "markdown",
      "metadata": {
        "id": "ejhT_RD7i0RK"
      },
      "source": [
        "# Accessing Data"
      ]
    },
    {
      "cell_type": "code",
      "execution_count": null,
      "metadata": {
        "colab": {
          "base_uri": "https://localhost:8080/",
          "height": 175
        },
        "id": "770WXRhgi21Y",
        "outputId": "2da1d460-f7fc-496c-dcd8-fe5a2d2dfa6c"
      },
      "outputs": [],
      "source": [
        "coffee.loc[0]\n",
        "coffee.loc[[0,1,2]]\n",
        "coffee.loc[5:12]\n",
        "coffee.loc[5:8, [\"Day\", \"Units Sold\"]]"
      ]
    },
    {
      "cell_type": "code",
      "execution_count": null,
      "metadata": {
        "colab": {
          "base_uri": "https://localhost:8080/",
          "height": 175
        },
        "id": "Uqfxzu8M6UwM",
        "outputId": "689bab78-9728-4db9-9af0-63ab77e6b948"
      },
      "outputs": [],
      "source": [
        "coffee.iloc[0]\n",
        "coffee.iloc[[0,1,2]]\n",
        "coffee.iloc[5:12]\n",
        "coffee.iloc[5:8, [0,2]]"
      ]
    },
    {
      "cell_type": "code",
      "execution_count": null,
      "metadata": {
        "id": "kSBiZvP5DS01"
      },
      "outputs": [],
      "source": [
        "coffee.at[0, \"Units Sold\"]\n",
        "coffee.iat[0, 2]"
      ]
    },
    {
      "cell_type": "code",
      "execution_count": null,
      "metadata": {
        "id": "HxKiy4dl9wCp"
      },
      "outputs": [],
      "source": [
        "coffee.index = coffee.Day\n",
        "coffee.index = coffee[\"Day\"]\n",
        "\n",
        "coffee.loc[\"Monday\":\"Friday\", \"Units Sold\"]"
      ]
    },
    {
      "cell_type": "code",
      "execution_count": null,
      "metadata": {
        "id": "HJT_2ez6-WL5"
      },
      "outputs": [],
      "source": [
        "coffee.loc[1, \"Units Sold\"] = 10\n",
        "coffee.loc[1:3, \"Units Sold\"] = 10"
      ]
    },
    {
      "cell_type": "code",
      "execution_count": null,
      "metadata": {
        "colab": {
          "base_uri": "https://localhost:8080/",
          "height": 551
        },
        "id": "rpXPj7QU_ukb",
        "outputId": "cb2dbbf5-bf12-405d-f8ba-7d6e4f2a96bc"
      },
      "outputs": [],
      "source": [
        "coffee.sort_values(\"Units Sold\", ascending=False)\n",
        "coffee.sort_values(\"Units Sold\", ascending=[0,1])"
      ]
    },
    {
      "cell_type": "code",
      "execution_count": null,
      "metadata": {},
      "outputs": [],
      "source": [
        "for index, row in coffee.iterrows():\n",
        "    print(index)\n",
        "    print(row[\"Units Sold\"])\n",
        "    print(\"\\n \\n\")"
      ]
    },
    {
      "cell_type": "markdown",
      "metadata": {},
      "source": [
        "# Filtering Data"
      ]
    },
    {
      "cell_type": "code",
      "execution_count": null,
      "metadata": {},
      "outputs": [],
      "source": [
        "bios.info()\n",
        "bios.loc[bios['height_cm'] > 215, ['name', 'height_cm']]\n",
        "bios[bios['height_cm'] > 215][['name', 'height_cm']]\n",
        "bios[(bios['height_cm'] > 215) & (bios['born_country']=='USA')]\n",
        "bios[bios['name'].str.contains('Keith')]\n",
        "bios[bios['name'].str.contains('keith', case=False)]\n",
        "bios[bios['name'].str.contains('keith | patrick', case=False, regex=True)]\n",
        "bios[bios['born_country'].isin([\"USA\", \"FRA\"])]\n",
        "bios[bios['born_country'].isin([\"USA\", \"FRA\", \"GBR\"]) & (bios['name'].str.startswith('Keith'))]\n",
        "bios.query('born_country == \"USA\" and born_city == \"Seattle\"')"
      ]
    },
    {
      "cell_type": "markdown",
      "metadata": {},
      "source": [
        "# Adding / Removing Columns"
      ]
    },
    {
      "cell_type": "code",
      "execution_count": 195,
      "metadata": {},
      "outputs": [],
      "source": [
        "coffee['price'] = 4.99\n",
        "coffee['new_price'] = np.where(coffee['Coffee Type'] == 'Espresso', 3.99, 5.99)"
      ]
    },
    {
      "cell_type": "code",
      "execution_count": 196,
      "metadata": {},
      "outputs": [],
      "source": [
        "# coffee.drop(columns=[\"price\"], inplace=True)\n",
        "coffee = coffee[['Day', 'Coffee Type', 'Units Sold', 'new_price']]"
      ]
    },
    {
      "cell_type": "code",
      "execution_count": 197,
      "metadata": {},
      "outputs": [],
      "source": [
        "coffee['revenue'] = coffee['Units Sold'] * coffee['new_price']"
      ]
    },
    {
      "cell_type": "code",
      "execution_count": 198,
      "metadata": {},
      "outputs": [],
      "source": [
        "coffee.rename(columns={\"new_price\":\"price\"}, inplace=True)"
      ]
    },
    {
      "cell_type": "code",
      "execution_count": null,
      "metadata": {},
      "outputs": [],
      "source": [
        "coffee"
      ]
    },
    {
      "cell_type": "code",
      "execution_count": null,
      "metadata": {},
      "outputs": [],
      "source": [
        "bios_new = bios.copy()"
      ]
    },
    {
      "cell_type": "code",
      "execution_count": null,
      "metadata": {},
      "outputs": [],
      "source": [
        "bios_new['first_name'] = bios_new['name'].str.split(' ').str[0]"
      ]
    },
    {
      "cell_type": "code",
      "execution_count": null,
      "metadata": {},
      "outputs": [],
      "source": [
        "bios_new.query('first_name ==\"Keith\"')"
      ]
    },
    {
      "cell_type": "code",
      "execution_count": null,
      "metadata": {},
      "outputs": [],
      "source": [
        "bios_new['born_datetime'] = pd.to_datetime(bios_new['born_date'], errors='coerce', format='mixed')\n",
        "bios_new['born_year'] = bios_new['born_datetime'].dt.year\n",
        "# bios_new['born_year'] = bios_new['born_datetime'].dt.is_leap_year\n",
        "bios_new[['name', 'born_year']]"
      ]
    },
    {
      "cell_type": "code",
      "execution_count": null,
      "metadata": {},
      "outputs": [],
      "source": [
        "bios['height_catergory'] = bios['height_cm'].apply(lambda x: 'Short' if x < 165 else ('Average' if x < 185 else 'Tall'))"
      ]
    },
    {
      "cell_type": "code",
      "execution_count": null,
      "metadata": {},
      "outputs": [],
      "source": [
        "def categorize_athelete(row):\n",
        "    if row['height_cm'] < 165 and row['weight_kg'] < 70:\n",
        "        return \"LightWeight\"\n",
        "    elif row['height_cm'] < 185 or row['weight_kg'] < 80:\n",
        "        return \"Middleweight\"\n",
        "    else:\n",
        "        return \"Heavyweight\"\n",
        "bios['weight_category'] = bios.apply(categorize_athelete, axis=1)"
      ]
    },
    {
      "cell_type": "code",
      "execution_count": null,
      "metadata": {},
      "outputs": [],
      "source": [
        "bios"
      ]
    },
    {
      "cell_type": "markdown",
      "metadata": {},
      "source": [
        "# Mergin and Concatenating Data"
      ]
    },
    {
      "cell_type": "code",
      "execution_count": 126,
      "metadata": {},
      "outputs": [],
      "source": [
        "bios_new = pd.merge(bios, nocs, left_on='born_country', right_on='NOC', how='left')"
      ]
    },
    {
      "cell_type": "code",
      "execution_count": 127,
      "metadata": {},
      "outputs": [],
      "source": [
        "bios_new.rename(columns={\"region\":\"born_country_full\"}, inplace=True)"
      ]
    },
    {
      "cell_type": "code",
      "execution_count": null,
      "metadata": {},
      "outputs": [],
      "source": [
        "bios_new[bios_new['NOC_x'] != bios_new['born_country_full']][['NOC_x', 'born_country_full']]"
      ]
    },
    {
      "cell_type": "code",
      "execution_count": 131,
      "metadata": {},
      "outputs": [],
      "source": [
        "usa = bios[bios['born_country'] == 'USA'].copy()\n",
        "gbr = bios[bios['born_country'] == 'GBR'].copy()"
      ]
    },
    {
      "cell_type": "code",
      "execution_count": null,
      "metadata": {},
      "outputs": [],
      "source": [
        "usa\n",
        "gbr"
      ]
    },
    {
      "cell_type": "code",
      "execution_count": null,
      "metadata": {},
      "outputs": [],
      "source": [
        "new_df = pd.concat([usa, gbr])\n",
        "new_df"
      ]
    },
    {
      "cell_type": "code",
      "execution_count": 138,
      "metadata": {},
      "outputs": [],
      "source": [
        "combined_df = pd.merge(results, bios, on='athlete_id', how='left')"
      ]
    },
    {
      "cell_type": "markdown",
      "metadata": {},
      "source": [
        "# Handling NULL Values"
      ]
    },
    {
      "cell_type": "code",
      "execution_count": 199,
      "metadata": {},
      "outputs": [],
      "source": [
        "coffee.loc[[2,3], 'Units Sold'] = np.nan"
      ]
    },
    {
      "cell_type": "code",
      "execution_count": null,
      "metadata": {},
      "outputs": [
        {
          "name": "stdout",
          "output_type": "stream",
          "text": [
            "<class 'pandas.core.frame.DataFrame'>\n",
            "RangeIndex: 14 entries, 0 to 13\n",
            "Data columns (total 5 columns):\n",
            " #   Column       Non-Null Count  Dtype  \n",
            "---  ------       --------------  -----  \n",
            " 0   Day          14 non-null     object \n",
            " 1   Coffee Type  14 non-null     object \n",
            " 2   Units Sold   12 non-null     float64\n",
            " 3   price        14 non-null     float64\n",
            " 4   revenue      14 non-null     float64\n",
            "dtypes: float64(3), object(2)\n",
            "memory usage: 692.0+ bytes\n"
          ]
        },
        {
          "data": {
            "text/html": [
              "<div>\n",
              "<style scoped>\n",
              "    .dataframe tbody tr th:only-of-type {\n",
              "        vertical-align: middle;\n",
              "    }\n",
              "\n",
              "    .dataframe tbody tr th {\n",
              "        vertical-align: top;\n",
              "    }\n",
              "\n",
              "    .dataframe thead th {\n",
              "        text-align: right;\n",
              "    }\n",
              "</style>\n",
              "<table border=\"1\" class=\"dataframe\">\n",
              "  <thead>\n",
              "    <tr style=\"text-align: right;\">\n",
              "      <th></th>\n",
              "      <th>Day</th>\n",
              "      <th>Coffee Type</th>\n",
              "      <th>Units Sold</th>\n",
              "      <th>price</th>\n",
              "      <th>revenue</th>\n",
              "    </tr>\n",
              "  </thead>\n",
              "  <tbody>\n",
              "    <tr>\n",
              "      <th>0</th>\n",
              "      <td>Monday</td>\n",
              "      <td>Espresso</td>\n",
              "      <td>25.0</td>\n",
              "      <td>3.99</td>\n",
              "      <td>99.75</td>\n",
              "    </tr>\n",
              "    <tr>\n",
              "      <th>1</th>\n",
              "      <td>Monday</td>\n",
              "      <td>Latte</td>\n",
              "      <td>15.0</td>\n",
              "      <td>5.99</td>\n",
              "      <td>89.85</td>\n",
              "    </tr>\n",
              "    <tr>\n",
              "      <th>4</th>\n",
              "      <td>Wednesday</td>\n",
              "      <td>Espresso</td>\n",
              "      <td>35.0</td>\n",
              "      <td>3.99</td>\n",
              "      <td>139.65</td>\n",
              "    </tr>\n",
              "    <tr>\n",
              "      <th>5</th>\n",
              "      <td>Wednesday</td>\n",
              "      <td>Latte</td>\n",
              "      <td>25.0</td>\n",
              "      <td>5.99</td>\n",
              "      <td>149.75</td>\n",
              "    </tr>\n",
              "    <tr>\n",
              "      <th>6</th>\n",
              "      <td>Thursday</td>\n",
              "      <td>Espresso</td>\n",
              "      <td>40.0</td>\n",
              "      <td>3.99</td>\n",
              "      <td>159.60</td>\n",
              "    </tr>\n",
              "    <tr>\n",
              "      <th>7</th>\n",
              "      <td>Thursday</td>\n",
              "      <td>Latte</td>\n",
              "      <td>30.0</td>\n",
              "      <td>5.99</td>\n",
              "      <td>179.70</td>\n",
              "    </tr>\n",
              "    <tr>\n",
              "      <th>8</th>\n",
              "      <td>Friday</td>\n",
              "      <td>Espresso</td>\n",
              "      <td>45.0</td>\n",
              "      <td>3.99</td>\n",
              "      <td>179.55</td>\n",
              "    </tr>\n",
              "    <tr>\n",
              "      <th>9</th>\n",
              "      <td>Friday</td>\n",
              "      <td>Latte</td>\n",
              "      <td>35.0</td>\n",
              "      <td>5.99</td>\n",
              "      <td>209.65</td>\n",
              "    </tr>\n",
              "    <tr>\n",
              "      <th>10</th>\n",
              "      <td>Saturday</td>\n",
              "      <td>Espresso</td>\n",
              "      <td>45.0</td>\n",
              "      <td>3.99</td>\n",
              "      <td>179.55</td>\n",
              "    </tr>\n",
              "    <tr>\n",
              "      <th>11</th>\n",
              "      <td>Saturday</td>\n",
              "      <td>Latte</td>\n",
              "      <td>35.0</td>\n",
              "      <td>5.99</td>\n",
              "      <td>209.65</td>\n",
              "    </tr>\n",
              "    <tr>\n",
              "      <th>12</th>\n",
              "      <td>Sunday</td>\n",
              "      <td>Espresso</td>\n",
              "      <td>45.0</td>\n",
              "      <td>3.99</td>\n",
              "      <td>179.55</td>\n",
              "    </tr>\n",
              "    <tr>\n",
              "      <th>13</th>\n",
              "      <td>Sunday</td>\n",
              "      <td>Latte</td>\n",
              "      <td>35.0</td>\n",
              "      <td>5.99</td>\n",
              "      <td>209.65</td>\n",
              "    </tr>\n",
              "  </tbody>\n",
              "</table>\n",
              "</div>"
            ],
            "text/plain": [
              "          Day Coffee Type  Units Sold  price  revenue\n",
              "0      Monday    Espresso        25.0   3.99    99.75\n",
              "1      Monday       Latte        15.0   5.99    89.85\n",
              "4   Wednesday    Espresso        35.0   3.99   139.65\n",
              "5   Wednesday       Latte        25.0   5.99   149.75\n",
              "6    Thursday    Espresso        40.0   3.99   159.60\n",
              "7    Thursday       Latte        30.0   5.99   179.70\n",
              "8      Friday    Espresso        45.0   3.99   179.55\n",
              "9      Friday       Latte        35.0   5.99   209.65\n",
              "10   Saturday    Espresso        45.0   3.99   179.55\n",
              "11   Saturday       Latte        35.0   5.99   209.65\n",
              "12     Sunday    Espresso        45.0   3.99   179.55\n",
              "13     Sunday       Latte        35.0   5.99   209.65"
            ]
          },
          "execution_count": 204,
          "metadata": {},
          "output_type": "execute_result"
        }
      ],
      "source": [
        "coffee.info()\n",
        "coffee.isna().sum()\n",
        "coffee[coffee['Units Sold'].isna()]\n",
        "coffee[coffee['Units Sold'].notna()]"
      ]
    },
    {
      "cell_type": "code",
      "execution_count": null,
      "metadata": {},
      "outputs": [],
      "source": [
        "coffee['Units Sold'] = coffee['Units Sold'].interpolate( )\n",
        "coffee['Units Sold'] = coffee['Units Sold'].fillna(coffee['Units Sold'].mean())\n",
        "coffee['Units Sold'] = coffee['Units Sold'].fillna(coffee['Units Sold'].median())\n",
        "coffee['Units Sold'] = coffee['Units Sold'].fillna(coffee['Units Sold'].mode()[0])\n",
        "\n",
        "coffee = coffee.dropna(subset=['Units Sold'])"
      ]
    },
    {
      "cell_type": "code",
      "execution_count": 201,
      "metadata": {},
      "outputs": [
        {
          "data": {
            "text/html": [
              "<div>\n",
              "<style scoped>\n",
              "    .dataframe tbody tr th:only-of-type {\n",
              "        vertical-align: middle;\n",
              "    }\n",
              "\n",
              "    .dataframe tbody tr th {\n",
              "        vertical-align: top;\n",
              "    }\n",
              "\n",
              "    .dataframe thead th {\n",
              "        text-align: right;\n",
              "    }\n",
              "</style>\n",
              "<table border=\"1\" class=\"dataframe\">\n",
              "  <thead>\n",
              "    <tr style=\"text-align: right;\">\n",
              "      <th></th>\n",
              "      <th>Day</th>\n",
              "      <th>Coffee Type</th>\n",
              "      <th>Units Sold</th>\n",
              "      <th>price</th>\n",
              "      <th>revenue</th>\n",
              "    </tr>\n",
              "  </thead>\n",
              "  <tbody>\n",
              "    <tr>\n",
              "      <th>0</th>\n",
              "      <td>Monday</td>\n",
              "      <td>Espresso</td>\n",
              "      <td>25.0</td>\n",
              "      <td>3.99</td>\n",
              "      <td>99.75</td>\n",
              "    </tr>\n",
              "    <tr>\n",
              "      <th>1</th>\n",
              "      <td>Monday</td>\n",
              "      <td>Latte</td>\n",
              "      <td>15.0</td>\n",
              "      <td>5.99</td>\n",
              "      <td>89.85</td>\n",
              "    </tr>\n",
              "    <tr>\n",
              "      <th>2</th>\n",
              "      <td>Tuesday</td>\n",
              "      <td>Espresso</td>\n",
              "      <td>NaN</td>\n",
              "      <td>3.99</td>\n",
              "      <td>119.70</td>\n",
              "    </tr>\n",
              "    <tr>\n",
              "      <th>3</th>\n",
              "      <td>Tuesday</td>\n",
              "      <td>Latte</td>\n",
              "      <td>NaN</td>\n",
              "      <td>5.99</td>\n",
              "      <td>119.80</td>\n",
              "    </tr>\n",
              "    <tr>\n",
              "      <th>4</th>\n",
              "      <td>Wednesday</td>\n",
              "      <td>Espresso</td>\n",
              "      <td>35.0</td>\n",
              "      <td>3.99</td>\n",
              "      <td>139.65</td>\n",
              "    </tr>\n",
              "    <tr>\n",
              "      <th>5</th>\n",
              "      <td>Wednesday</td>\n",
              "      <td>Latte</td>\n",
              "      <td>25.0</td>\n",
              "      <td>5.99</td>\n",
              "      <td>149.75</td>\n",
              "    </tr>\n",
              "    <tr>\n",
              "      <th>6</th>\n",
              "      <td>Thursday</td>\n",
              "      <td>Espresso</td>\n",
              "      <td>40.0</td>\n",
              "      <td>3.99</td>\n",
              "      <td>159.60</td>\n",
              "    </tr>\n",
              "    <tr>\n",
              "      <th>7</th>\n",
              "      <td>Thursday</td>\n",
              "      <td>Latte</td>\n",
              "      <td>30.0</td>\n",
              "      <td>5.99</td>\n",
              "      <td>179.70</td>\n",
              "    </tr>\n",
              "    <tr>\n",
              "      <th>8</th>\n",
              "      <td>Friday</td>\n",
              "      <td>Espresso</td>\n",
              "      <td>45.0</td>\n",
              "      <td>3.99</td>\n",
              "      <td>179.55</td>\n",
              "    </tr>\n",
              "    <tr>\n",
              "      <th>9</th>\n",
              "      <td>Friday</td>\n",
              "      <td>Latte</td>\n",
              "      <td>35.0</td>\n",
              "      <td>5.99</td>\n",
              "      <td>209.65</td>\n",
              "    </tr>\n",
              "    <tr>\n",
              "      <th>10</th>\n",
              "      <td>Saturday</td>\n",
              "      <td>Espresso</td>\n",
              "      <td>45.0</td>\n",
              "      <td>3.99</td>\n",
              "      <td>179.55</td>\n",
              "    </tr>\n",
              "    <tr>\n",
              "      <th>11</th>\n",
              "      <td>Saturday</td>\n",
              "      <td>Latte</td>\n",
              "      <td>35.0</td>\n",
              "      <td>5.99</td>\n",
              "      <td>209.65</td>\n",
              "    </tr>\n",
              "    <tr>\n",
              "      <th>12</th>\n",
              "      <td>Sunday</td>\n",
              "      <td>Espresso</td>\n",
              "      <td>45.0</td>\n",
              "      <td>3.99</td>\n",
              "      <td>179.55</td>\n",
              "    </tr>\n",
              "    <tr>\n",
              "      <th>13</th>\n",
              "      <td>Sunday</td>\n",
              "      <td>Latte</td>\n",
              "      <td>35.0</td>\n",
              "      <td>5.99</td>\n",
              "      <td>209.65</td>\n",
              "    </tr>\n",
              "  </tbody>\n",
              "</table>\n",
              "</div>"
            ],
            "text/plain": [
              "          Day Coffee Type  Units Sold  price  revenue\n",
              "0      Monday    Espresso        25.0   3.99    99.75\n",
              "1      Monday       Latte        15.0   5.99    89.85\n",
              "2     Tuesday    Espresso         NaN   3.99   119.70\n",
              "3     Tuesday       Latte         NaN   5.99   119.80\n",
              "4   Wednesday    Espresso        35.0   3.99   139.65\n",
              "5   Wednesday       Latte        25.0   5.99   149.75\n",
              "6    Thursday    Espresso        40.0   3.99   159.60\n",
              "7    Thursday       Latte        30.0   5.99   179.70\n",
              "8      Friday    Espresso        45.0   3.99   179.55\n",
              "9      Friday       Latte        35.0   5.99   209.65\n",
              "10   Saturday    Espresso        45.0   3.99   179.55\n",
              "11   Saturday       Latte        35.0   5.99   209.65\n",
              "12     Sunday    Espresso        45.0   3.99   179.55\n",
              "13     Sunday       Latte        35.0   5.99   209.65"
            ]
          },
          "execution_count": 201,
          "metadata": {},
          "output_type": "execute_result"
        }
      ],
      "source": [
        "coffee"
      ]
    },
    {
      "cell_type": "markdown",
      "metadata": {},
      "source": [
        "# Aggregating Data"
      ]
    },
    {
      "cell_type": "code",
      "execution_count": 207,
      "metadata": {},
      "outputs": [
        {
          "data": {
            "text/plain": [
              "born_city\n",
              "Budapest           1378\n",
              "Moskva (Moscow)     883\n",
              "Oslo                708\n",
              "Stockholm           629\n",
              "Praha (Prague)      600\n",
              "                   ... \n",
              "Kirovgrad             1\n",
              "Pereiaslav            1\n",
              "Podgornyy             1\n",
              "Kudepsta              1\n",
              "Furmanov              1\n",
              "Name: count, Length: 22368, dtype: int64"
            ]
          },
          "execution_count": 207,
          "metadata": {},
          "output_type": "execute_result"
        }
      ],
      "source": [
        "bios['born_city'].value_counts()"
      ]
    },
    {
      "cell_type": "code",
      "execution_count": 208,
      "metadata": {},
      "outputs": [
        {
          "data": {
            "text/plain": [
              "born_region\n",
              "California              1634\n",
              "New York                 990\n",
              "Illinois                 585\n",
              "Massachusetts            530\n",
              "Pennsylvania             530\n",
              "New Jersey               381\n",
              "Texas                    368\n",
              "Minnesota                365\n",
              "Ohio                     328\n",
              "Michigan                 319\n",
              "Washington               240\n",
              "Florida                  235\n",
              "Wisconsin                209\n",
              "Colorado                 207\n",
              "Connecticut              156\n",
              "Indiana                  150\n",
              "Oregon                   132\n",
              "Georgia                  129\n",
              "Virginia                 121\n",
              "Maryland                 117\n",
              "District of Columbia     107\n",
              "Iowa                     102\n",
              "Hawaiʻi                   95\n",
              "Kansas                    94\n",
              "Oklahoma                  93\n",
              "Louisiana                 92\n",
              "Utah                      91\n",
              "Missouri                  91\n",
              "North Carolina            86\n",
              "Arizona                   83\n",
              "New Hampshire             83\n",
              "Vermont                   68\n",
              "Mississippi               66\n",
              "Alabama                   64\n",
              "Kentucky                  62\n",
              "Tennessee                 62\n",
              "Nebraska                  60\n",
              "Rhode Island              56\n",
              "Montana                   55\n",
              "Maine                     50\n",
              "South Carolina            50\n",
              "Alaska                    45\n",
              "Arkansas                  42\n",
              "Idaho                     41\n",
              "New Mexico                38\n",
              "Nevada                    36\n",
              "South Dakota              27\n",
              "West Virginia             24\n",
              "Delaware                  22\n",
              "North Dakota              16\n",
              "Wyoming                   14\n",
              "Name: count, dtype: int64"
            ]
          },
          "execution_count": 208,
          "metadata": {},
          "output_type": "execute_result"
        }
      ],
      "source": [
        "bios[bios['born_country'] == 'USA']['born_region'].value_counts()"
      ]
    },
    {
      "cell_type": "code",
      "execution_count": 216,
      "metadata": {},
      "outputs": [
        {
          "data": {
            "text/html": [
              "<div>\n",
              "<style scoped>\n",
              "    .dataframe tbody tr th:only-of-type {\n",
              "        vertical-align: middle;\n",
              "    }\n",
              "\n",
              "    .dataframe tbody tr th {\n",
              "        vertical-align: top;\n",
              "    }\n",
              "\n",
              "    .dataframe thead th {\n",
              "        text-align: right;\n",
              "    }\n",
              "</style>\n",
              "<table border=\"1\" class=\"dataframe\">\n",
              "  <thead>\n",
              "    <tr style=\"text-align: right;\">\n",
              "      <th></th>\n",
              "      <th></th>\n",
              "      <th>Units Sold</th>\n",
              "      <th>price</th>\n",
              "    </tr>\n",
              "    <tr>\n",
              "      <th>Coffee Type</th>\n",
              "      <th>Day</th>\n",
              "      <th></th>\n",
              "      <th></th>\n",
              "    </tr>\n",
              "  </thead>\n",
              "  <tbody>\n",
              "    <tr>\n",
              "      <th rowspan=\"7\" valign=\"top\">Espresso</th>\n",
              "      <th>Friday</th>\n",
              "      <td>45.000000</td>\n",
              "      <td>3.99</td>\n",
              "    </tr>\n",
              "    <tr>\n",
              "      <th>Monday</th>\n",
              "      <td>25.000000</td>\n",
              "      <td>3.99</td>\n",
              "    </tr>\n",
              "    <tr>\n",
              "      <th>Saturday</th>\n",
              "      <td>45.000000</td>\n",
              "      <td>3.99</td>\n",
              "    </tr>\n",
              "    <tr>\n",
              "      <th>Sunday</th>\n",
              "      <td>45.000000</td>\n",
              "      <td>3.99</td>\n",
              "    </tr>\n",
              "    <tr>\n",
              "      <th>Thursday</th>\n",
              "      <td>40.000000</td>\n",
              "      <td>3.99</td>\n",
              "    </tr>\n",
              "    <tr>\n",
              "      <th>Tuesday</th>\n",
              "      <td>21.666667</td>\n",
              "      <td>3.99</td>\n",
              "    </tr>\n",
              "    <tr>\n",
              "      <th>Wednesday</th>\n",
              "      <td>35.000000</td>\n",
              "      <td>3.99</td>\n",
              "    </tr>\n",
              "    <tr>\n",
              "      <th rowspan=\"7\" valign=\"top\">Latte</th>\n",
              "      <th>Friday</th>\n",
              "      <td>35.000000</td>\n",
              "      <td>5.99</td>\n",
              "    </tr>\n",
              "    <tr>\n",
              "      <th>Monday</th>\n",
              "      <td>15.000000</td>\n",
              "      <td>5.99</td>\n",
              "    </tr>\n",
              "    <tr>\n",
              "      <th>Saturday</th>\n",
              "      <td>35.000000</td>\n",
              "      <td>5.99</td>\n",
              "    </tr>\n",
              "    <tr>\n",
              "      <th>Sunday</th>\n",
              "      <td>35.000000</td>\n",
              "      <td>5.99</td>\n",
              "    </tr>\n",
              "    <tr>\n",
              "      <th>Thursday</th>\n",
              "      <td>30.000000</td>\n",
              "      <td>5.99</td>\n",
              "    </tr>\n",
              "    <tr>\n",
              "      <th>Tuesday</th>\n",
              "      <td>28.333333</td>\n",
              "      <td>5.99</td>\n",
              "    </tr>\n",
              "    <tr>\n",
              "      <th>Wednesday</th>\n",
              "      <td>25.000000</td>\n",
              "      <td>5.99</td>\n",
              "    </tr>\n",
              "  </tbody>\n",
              "</table>\n",
              "</div>"
            ],
            "text/plain": [
              "                       Units Sold  price\n",
              "Coffee Type Day                         \n",
              "Espresso    Friday      45.000000   3.99\n",
              "            Monday      25.000000   3.99\n",
              "            Saturday    45.000000   3.99\n",
              "            Sunday      45.000000   3.99\n",
              "            Thursday    40.000000   3.99\n",
              "            Tuesday     21.666667   3.99\n",
              "            Wednesday   35.000000   3.99\n",
              "Latte       Friday      35.000000   5.99\n",
              "            Monday      15.000000   5.99\n",
              "            Saturday    35.000000   5.99\n",
              "            Sunday      35.000000   5.99\n",
              "            Thursday    30.000000   5.99\n",
              "            Tuesday     28.333333   5.99\n",
              "            Wednesday   25.000000   5.99"
            ]
          },
          "execution_count": 216,
          "metadata": {},
          "output_type": "execute_result"
        }
      ],
      "source": [
        "coffee['Units Sold'] = coffee['Units Sold'].interpolate()\n",
        "# coffee.groupby(['Coffee Type'])['Units Sold'].sum()\n",
        "coffee.groupby(['Coffee Type', 'Day']).agg({'Units Sold':'sum', 'price':'mean'})"
      ]
    },
    {
      "cell_type": "code",
      "execution_count": 218,
      "metadata": {},
      "outputs": [],
      "source": [
        "pivot = coffee.pivot(columns='Coffee Type', index='Day', values='revenue')"
      ]
    },
    {
      "cell_type": "code",
      "execution_count": 220,
      "metadata": {},
      "outputs": [
        {
          "data": {
            "text/plain": [
              "Day\n",
              "Friday       389.2\n",
              "Monday       189.6\n",
              "Saturday     389.2\n",
              "Sunday       389.2\n",
              "Thursday     339.3\n",
              "Tuesday      239.5\n",
              "Wednesday    289.4\n",
              "dtype: float64"
            ]
          },
          "execution_count": 220,
          "metadata": {},
          "output_type": "execute_result"
        }
      ],
      "source": [
        "pivot\n",
        "pivot.sum(axis=1)"
      ]
    },
    {
      "cell_type": "code",
      "execution_count": 229,
      "metadata": {},
      "outputs": [
        {
          "data": {
            "text/html": [
              "<div>\n",
              "<style scoped>\n",
              "    .dataframe tbody tr th:only-of-type {\n",
              "        vertical-align: middle;\n",
              "    }\n",
              "\n",
              "    .dataframe tbody tr th {\n",
              "        vertical-align: top;\n",
              "    }\n",
              "\n",
              "    .dataframe thead th {\n",
              "        text-align: right;\n",
              "    }\n",
              "</style>\n",
              "<table border=\"1\" class=\"dataframe\">\n",
              "  <thead>\n",
              "    <tr style=\"text-align: right;\">\n",
              "      <th></th>\n",
              "      <th>month_born</th>\n",
              "      <th>year_born</th>\n",
              "      <th>name</th>\n",
              "    </tr>\n",
              "  </thead>\n",
              "  <tbody>\n",
              "    <tr>\n",
              "      <th>124</th>\n",
              "      <td>1.0</td>\n",
              "      <td>1970.0</td>\n",
              "      <td>239</td>\n",
              "    </tr>\n",
              "    <tr>\n",
              "      <th>126</th>\n",
              "      <td>1.0</td>\n",
              "      <td>1972.0</td>\n",
              "      <td>229</td>\n",
              "    </tr>\n",
              "    <tr>\n",
              "      <th>129</th>\n",
              "      <td>1.0</td>\n",
              "      <td>1975.0</td>\n",
              "      <td>227</td>\n",
              "    </tr>\n",
              "    <tr>\n",
              "      <th>140</th>\n",
              "      <td>1.0</td>\n",
              "      <td>1986.0</td>\n",
              "      <td>227</td>\n",
              "    </tr>\n",
              "    <tr>\n",
              "      <th>139</th>\n",
              "      <td>1.0</td>\n",
              "      <td>1985.0</td>\n",
              "      <td>225</td>\n",
              "    </tr>\n",
              "    <tr>\n",
              "      <th>...</th>\n",
              "      <td>...</td>\n",
              "      <td>...</td>\n",
              "      <td>...</td>\n",
              "    </tr>\n",
              "    <tr>\n",
              "      <th>165</th>\n",
              "      <td>2.0</td>\n",
              "      <td>1853.0</td>\n",
              "      <td>1</td>\n",
              "    </tr>\n",
              "    <tr>\n",
              "      <th>168</th>\n",
              "      <td>2.0</td>\n",
              "      <td>1859.0</td>\n",
              "      <td>1</td>\n",
              "    </tr>\n",
              "    <tr>\n",
              "      <th>172</th>\n",
              "      <td>2.0</td>\n",
              "      <td>1864.0</td>\n",
              "      <td>1</td>\n",
              "    </tr>\n",
              "    <tr>\n",
              "      <th>7</th>\n",
              "      <td>1.0</td>\n",
              "      <td>1852.0</td>\n",
              "      <td>1</td>\n",
              "    </tr>\n",
              "    <tr>\n",
              "      <th>1884</th>\n",
              "      <td>12.0</td>\n",
              "      <td>2006.0</td>\n",
              "      <td>1</td>\n",
              "    </tr>\n",
              "  </tbody>\n",
              "</table>\n",
              "<p>1885 rows × 3 columns</p>\n",
              "</div>"
            ],
            "text/plain": [
              "      month_born  year_born  name\n",
              "124          1.0     1970.0   239\n",
              "126          1.0     1972.0   229\n",
              "129          1.0     1975.0   227\n",
              "140          1.0     1986.0   227\n",
              "139          1.0     1985.0   225\n",
              "...          ...        ...   ...\n",
              "165          2.0     1853.0     1\n",
              "168          2.0     1859.0     1\n",
              "172          2.0     1864.0     1\n",
              "7            1.0     1852.0     1\n",
              "1884        12.0     2006.0     1\n",
              "\n",
              "[1885 rows x 3 columns]"
            ]
          },
          "execution_count": 229,
          "metadata": {},
          "output_type": "execute_result"
        }
      ],
      "source": [
        "bios['born_date'] = pd.to_datetime(bios['born_date'])\n",
        "bios['month_born'] = bios['born_date'].dt.month\n",
        "bios['year_born'] = bios['born_date'].dt.year\n",
        "bios.groupby(['month_born', 'year_born'])['name'].count().reset_index().sort_values('name', ascending=False)"
      ]
    },
    {
      "cell_type": "markdown",
      "metadata": {},
      "source": [
        "# Saving filtered data"
      ]
    },
    {
      "cell_type": "code",
      "execution_count": null,
      "metadata": {},
      "outputs": [],
      "source": [
        "# Drive\n",
        "bios_new.to_csv('/content/drive/MyDrive/AI-Olympiad Notebook/Data Science/Dataset/data/new_bios.csv', index=False)\n",
        "\n",
        "# Local\n",
        "bios_new.to_csv('Dataset/data/new_bios.csv', index=False)"
      ]
    }
  ],
  "metadata": {
    "colab": {
      "authorship_tag": "ABX9TyOeYMiLHjKLv7rh5q0Bv4pJ",
      "include_colab_link": true,
      "provenance": []
    },
    "kernelspec": {
      "display_name": ".venv",
      "language": "python",
      "name": "python3"
    },
    "language_info": {
      "codemirror_mode": {
        "name": "ipython",
        "version": 3
      },
      "file_extension": ".py",
      "mimetype": "text/x-python",
      "name": "python",
      "nbconvert_exporter": "python",
      "pygments_lexer": "ipython3",
      "version": "3.13.3"
    }
  },
  "nbformat": 4,
  "nbformat_minor": 0
}
