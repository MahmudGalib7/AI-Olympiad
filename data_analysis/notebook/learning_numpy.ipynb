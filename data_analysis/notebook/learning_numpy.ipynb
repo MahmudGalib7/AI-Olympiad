{
  "cells": [
    {
      "cell_type": "markdown",
      "metadata": {
        "id": "view-in-github",
        "colab_type": "text"
      },
      "source": [
        "<a href=\"https://colab.research.google.com/github/MahmudGalib7/AI-Olympiad/blob/master/data_analysis/notebook/learning_numpy.ipynb\" target=\"_parent\"><img src=\"https://colab.research.google.com/assets/colab-badge.svg\" alt=\"Open In Colab\"/></a>"
      ]
    },
    {
      "cell_type": "markdown",
      "metadata": {
        "id": "U0hMMpD28A0k"
      },
      "source": [
        "### Load in NumPy (remember to pip install numpy first)"
      ]
    },
    {
      "cell_type": "code",
      "execution_count": 2,
      "metadata": {
        "id": "A5YDpMIp8A0n"
      },
      "outputs": [],
      "source": [
        "import numpy as np"
      ]
    },
    {
      "cell_type": "code",
      "source": [
        "arr = np.array([[1,2,3,4],[5,6,7,8]])\n",
        "arr"
      ],
      "metadata": {
        "id": "R88DTdZHKZx6",
        "outputId": "85c09d1d-da68-4c6e-cf87-35b3611335ad",
        "colab": {
          "base_uri": "https://localhost:8080/"
        }
      },
      "execution_count": 22,
      "outputs": [
        {
          "output_type": "execute_result",
          "data": {
            "text/plain": [
              "array([[1, 2, 3, 4],\n",
              "       [5, 6, 7, 8]])"
            ]
          },
          "metadata": {},
          "execution_count": 22
        }
      ]
    },
    {
      "cell_type": "code",
      "source": [
        "arr.ndim"
      ],
      "metadata": {
        "id": "3MJno-7CNI1D",
        "outputId": "33823c73-69d8-491f-d7b2-322c33624a0e",
        "colab": {
          "base_uri": "https://localhost:8080/"
        }
      },
      "execution_count": null,
      "outputs": [
        {
          "output_type": "execute_result",
          "data": {
            "text/plain": [
              "2"
            ]
          },
          "metadata": {},
          "execution_count": 9
        }
      ]
    },
    {
      "cell_type": "code",
      "source": [
        "arr.shape"
      ],
      "metadata": {
        "id": "1p9wTl-4Ng-3",
        "outputId": "22a303b9-7ad3-41c2-f6f2-becdf0c90a75",
        "colab": {
          "base_uri": "https://localhost:8080/"
        }
      },
      "execution_count": null,
      "outputs": [
        {
          "output_type": "execute_result",
          "data": {
            "text/plain": [
              "(2, 3)"
            ]
          },
          "metadata": {},
          "execution_count": 10
        }
      ]
    },
    {
      "cell_type": "code",
      "source": [
        "arr.size\n",
        "arr.itemsize\n",
        "arr.size * arr.itemsize\n",
        "arr.nbytes"
      ],
      "metadata": {
        "id": "7ChKXa6xNj6f",
        "outputId": "777d85af-65e4-4647-9e82-f0353293b45b",
        "colab": {
          "base_uri": "https://localhost:8080/"
        }
      },
      "execution_count": null,
      "outputs": [
        {
          "output_type": "execute_result",
          "data": {
            "text/plain": [
              "48"
            ]
          },
          "metadata": {},
          "execution_count": 11
        }
      ]
    },
    {
      "cell_type": "code",
      "source": [
        "arr.dtype"
      ],
      "metadata": {
        "id": "e_1TwrCYNr1X",
        "outputId": "fb13cba5-75a8-4066-8c19-928d3023caa3",
        "colab": {
          "base_uri": "https://localhost:8080/"
        }
      },
      "execution_count": null,
      "outputs": [
        {
          "output_type": "execute_result",
          "data": {
            "text/plain": [
              "dtype('complex128')"
            ]
          },
          "metadata": {},
          "execution_count": 20
        }
      ]
    },
    {
      "cell_type": "code",
      "source": [
        "arr.data"
      ],
      "metadata": {
        "id": "9XSq9Ex3N1xw",
        "outputId": "0b2a0107-a2a3-4c2d-c464-4b4a9e8aa085",
        "colab": {
          "base_uri": "https://localhost:8080/"
        }
      },
      "execution_count": null,
      "outputs": [
        {
          "output_type": "execute_result",
          "data": {
            "text/plain": [
              "<memory at 0x795cb7f397d0>"
            ]
          },
          "metadata": {},
          "execution_count": 19
        }
      ]
    },
    {
      "cell_type": "code",
      "source": [
        "x = np.zeros((3,4))\n",
        "x"
      ],
      "metadata": {
        "id": "HmjBoz3BPmXi",
        "outputId": "a54a8477-101c-4332-c51e-930d13092da2",
        "colab": {
          "base_uri": "https://localhost:8080/"
        }
      },
      "execution_count": null,
      "outputs": [
        {
          "output_type": "execute_result",
          "data": {
            "text/plain": [
              "array([[0., 0., 0., 0.],\n",
              "       [0., 0., 0., 0.],\n",
              "       [0., 0., 0., 0.]])"
            ]
          },
          "metadata": {},
          "execution_count": 27
        }
      ]
    },
    {
      "cell_type": "code",
      "source": [
        "y = np.ones((3,3))\n",
        "y"
      ],
      "metadata": {
        "id": "y6y9sLmCP0oP",
        "outputId": "16fc0613-1258-4b26-9a74-8580a33273e8",
        "colab": {
          "base_uri": "https://localhost:8080/"
        }
      },
      "execution_count": null,
      "outputs": [
        {
          "output_type": "execute_result",
          "data": {
            "text/plain": [
              "array([[1., 1., 1.],\n",
              "       [1., 1., 1.],\n",
              "       [1., 1., 1.]])"
            ]
          },
          "metadata": {},
          "execution_count": 28
        }
      ]
    },
    {
      "cell_type": "code",
      "source": [
        "z = np.full((4,4), 9)\n",
        "z"
      ],
      "metadata": {
        "id": "zaqZjpR8P5Nl",
        "outputId": "d93fbf46-d023-464a-aad4-b9bbc0b1816c",
        "colab": {
          "base_uri": "https://localhost:8080/"
        }
      },
      "execution_count": null,
      "outputs": [
        {
          "output_type": "execute_result",
          "data": {
            "text/plain": [
              "array([[9, 9, 9, 9],\n",
              "       [9, 9, 9, 9],\n",
              "       [9, 9, 9, 9],\n",
              "       [9, 9, 9, 9]])"
            ]
          },
          "metadata": {},
          "execution_count": 30
        }
      ]
    },
    {
      "cell_type": "code",
      "source": [
        "np.empty((2, 3))"
      ],
      "metadata": {
        "id": "ZBZaI7ipQo-H",
        "outputId": "32587f3e-7af8-4f65-d606-38aac618149e",
        "colab": {
          "base_uri": "https://localhost:8080/"
        }
      },
      "execution_count": 10,
      "outputs": [
        {
          "output_type": "execute_result",
          "data": {
            "text/plain": [
              "array([[0., 0., 0.],\n",
              "       [0., 0., 0.]])"
            ]
          },
          "metadata": {},
          "execution_count": 10
        }
      ]
    },
    {
      "cell_type": "code",
      "source": [
        "np.arange(10, 30, 5)"
      ],
      "metadata": {
        "id": "MXLDmNhNoLY0",
        "outputId": "45c6230a-c161-4d41-a5c4-966cdefe0af5",
        "colab": {
          "base_uri": "https://localhost:8080/"
        }
      },
      "execution_count": 9,
      "outputs": [
        {
          "output_type": "execute_result",
          "data": {
            "text/plain": [
              "array([10, 15, 20, 25])"
            ]
          },
          "metadata": {},
          "execution_count": 9
        }
      ]
    },
    {
      "cell_type": "code",
      "source": [
        "np.linspace(0, 2, 9)\n",
        "x = np.linspace(0, 2 * np.pi, 100)\n",
        "x\n",
        "np.sin(x)"
      ],
      "metadata": {
        "id": "GwVpfRKjoVHv",
        "outputId": "393d1a4c-7e53-40f4-c86b-8561605a0742",
        "colab": {
          "base_uri": "https://localhost:8080/"
        }
      },
      "execution_count": 12,
      "outputs": [
        {
          "output_type": "execute_result",
          "data": {
            "text/plain": [
              "array([ 0.00000000e+00,  6.34239197e-02,  1.26592454e-01,  1.89251244e-01,\n",
              "        2.51147987e-01,  3.12033446e-01,  3.71662456e-01,  4.29794912e-01,\n",
              "        4.86196736e-01,  5.40640817e-01,  5.92907929e-01,  6.42787610e-01,\n",
              "        6.90079011e-01,  7.34591709e-01,  7.76146464e-01,  8.14575952e-01,\n",
              "        8.49725430e-01,  8.81453363e-01,  9.09631995e-01,  9.34147860e-01,\n",
              "        9.54902241e-01,  9.71811568e-01,  9.84807753e-01,  9.93838464e-01,\n",
              "        9.98867339e-01,  9.99874128e-01,  9.96854776e-01,  9.89821442e-01,\n",
              "        9.78802446e-01,  9.63842159e-01,  9.45000819e-01,  9.22354294e-01,\n",
              "        8.95993774e-01,  8.66025404e-01,  8.32569855e-01,  7.95761841e-01,\n",
              "        7.55749574e-01,  7.12694171e-01,  6.66769001e-01,  6.18158986e-01,\n",
              "        5.67059864e-01,  5.13677392e-01,  4.58226522e-01,  4.00930535e-01,\n",
              "        3.42020143e-01,  2.81732557e-01,  2.20310533e-01,  1.58001396e-01,\n",
              "        9.50560433e-02,  3.17279335e-02, -3.17279335e-02, -9.50560433e-02,\n",
              "       -1.58001396e-01, -2.20310533e-01, -2.81732557e-01, -3.42020143e-01,\n",
              "       -4.00930535e-01, -4.58226522e-01, -5.13677392e-01, -5.67059864e-01,\n",
              "       -6.18158986e-01, -6.66769001e-01, -7.12694171e-01, -7.55749574e-01,\n",
              "       -7.95761841e-01, -8.32569855e-01, -8.66025404e-01, -8.95993774e-01,\n",
              "       -9.22354294e-01, -9.45000819e-01, -9.63842159e-01, -9.78802446e-01,\n",
              "       -9.89821442e-01, -9.96854776e-01, -9.99874128e-01, -9.98867339e-01,\n",
              "       -9.93838464e-01, -9.84807753e-01, -9.71811568e-01, -9.54902241e-01,\n",
              "       -9.34147860e-01, -9.09631995e-01, -8.81453363e-01, -8.49725430e-01,\n",
              "       -8.14575952e-01, -7.76146464e-01, -7.34591709e-01, -6.90079011e-01,\n",
              "       -6.42787610e-01, -5.92907929e-01, -5.40640817e-01, -4.86196736e-01,\n",
              "       -4.29794912e-01, -3.71662456e-01, -3.12033446e-01, -2.51147987e-01,\n",
              "       -1.89251244e-01, -1.26592454e-01, -6.34239197e-02, -2.44929360e-16])"
            ]
          },
          "metadata": {},
          "execution_count": 12
        }
      ]
    },
    {
      "cell_type": "code",
      "source": [
        "arr.reshape((2,2,2))"
      ],
      "metadata": {
        "id": "9LfjfN0covFP",
        "outputId": "74a70fdc-0ee8-42e2-9408-42f0a7096f5f",
        "colab": {
          "base_uri": "https://localhost:8080/"
        }
      },
      "execution_count": 23,
      "outputs": [
        {
          "output_type": "execute_result",
          "data": {
            "text/plain": [
              "array([[[1, 2],\n",
              "        [3, 4]],\n",
              "\n",
              "       [[5, 6],\n",
              "        [7, 8]]])"
            ]
          },
          "metadata": {},
          "execution_count": 23
        }
      ]
    },
    {
      "cell_type": "code",
      "source": [
        "arr + 2"
      ],
      "metadata": {
        "id": "v6ngSFsVpa3B",
        "outputId": "131e8ff4-1941-4893-e1c1-97cd5a57a9c3",
        "colab": {
          "base_uri": "https://localhost:8080/"
        }
      },
      "execution_count": 24,
      "outputs": [
        {
          "output_type": "execute_result",
          "data": {
            "text/plain": [
              "array([[ 3,  4,  5,  6],\n",
              "       [ 7,  8,  9, 10]])"
            ]
          },
          "metadata": {},
          "execution_count": 24
        }
      ]
    },
    {
      "cell_type": "code",
      "source": [
        "arr - 2"
      ],
      "metadata": {
        "id": "OMUnf7FzpiDG",
        "outputId": "a504adf1-1b5a-44d7-ba85-b69f0b5e3ff6",
        "colab": {
          "base_uri": "https://localhost:8080/"
        }
      },
      "execution_count": 25,
      "outputs": [
        {
          "output_type": "execute_result",
          "data": {
            "text/plain": [
              "array([[-1,  0,  1,  2],\n",
              "       [ 3,  4,  5,  6]])"
            ]
          },
          "metadata": {},
          "execution_count": 25
        }
      ]
    },
    {
      "cell_type": "code",
      "source": [
        "arr * 2"
      ],
      "metadata": {
        "id": "_u5YVwa5pjWj",
        "outputId": "6407e5d1-b884-4704-d626-971fd64354c7",
        "colab": {
          "base_uri": "https://localhost:8080/"
        }
      },
      "execution_count": 26,
      "outputs": [
        {
          "output_type": "execute_result",
          "data": {
            "text/plain": [
              "array([[ 2,  4,  6,  8],\n",
              "       [10, 12, 14, 16]])"
            ]
          },
          "metadata": {},
          "execution_count": 26
        }
      ]
    },
    {
      "cell_type": "code",
      "source": [
        "arr / 2"
      ],
      "metadata": {
        "id": "ZuJ-8VWQpk9s",
        "outputId": "a68cb453-3368-4b3d-e63d-8072620efc9b",
        "colab": {
          "base_uri": "https://localhost:8080/"
        }
      },
      "execution_count": 27,
      "outputs": [
        {
          "output_type": "execute_result",
          "data": {
            "text/plain": [
              "array([[0.5, 1. , 1.5, 2. ],\n",
              "       [2.5, 3. , 3.5, 4. ]])"
            ]
          },
          "metadata": {},
          "execution_count": 27
        }
      ]
    },
    {
      "cell_type": "code",
      "source": [
        "arr ** 2"
      ],
      "metadata": {
        "id": "_z9rajNNpmtg",
        "outputId": "46b3bf1c-d3eb-49fb-b91a-a3fb798061bb",
        "colab": {
          "base_uri": "https://localhost:8080/"
        }
      },
      "execution_count": 28,
      "outputs": [
        {
          "output_type": "execute_result",
          "data": {
            "text/plain": [
              "array([[ 1,  4,  9, 16],\n",
              "       [25, 36, 49, 64]])"
            ]
          },
          "metadata": {},
          "execution_count": 28
        }
      ]
    },
    {
      "cell_type": "code",
      "source": [
        "np.sin(arr)"
      ],
      "metadata": {
        "id": "I02niLn8poV6",
        "outputId": "14b6333d-8989-4565-d609-a81763fd7cc2",
        "colab": {
          "base_uri": "https://localhost:8080/"
        }
      },
      "execution_count": 30,
      "outputs": [
        {
          "output_type": "execute_result",
          "data": {
            "text/plain": [
              "array([[ 0.84147098,  0.90929743,  0.14112001, -0.7568025 ],\n",
              "       [-0.95892427, -0.2794155 ,  0.6569866 ,  0.98935825]])"
            ]
          },
          "metadata": {},
          "execution_count": 30
        }
      ]
    },
    {
      "cell_type": "code",
      "source": [
        "np.cos(arr)"
      ],
      "metadata": {
        "id": "2Xqrycgop9cR",
        "outputId": "3549516e-488f-4acf-baba-b807f5c0a4fd",
        "colab": {
          "base_uri": "https://localhost:8080/"
        }
      },
      "execution_count": 31,
      "outputs": [
        {
          "output_type": "execute_result",
          "data": {
            "text/plain": [
              "array([[ 0.54030231, -0.41614684, -0.9899925 , -0.65364362],\n",
              "       [ 0.28366219,  0.96017029,  0.75390225, -0.14550003]])"
            ]
          },
          "metadata": {},
          "execution_count": 31
        }
      ]
    },
    {
      "cell_type": "code",
      "source": [
        "np.tan(arr)"
      ],
      "metadata": {
        "id": "fV56IiEgp96H",
        "outputId": "c8b0774b-459c-4ded-920d-86aa59a260e7",
        "colab": {
          "base_uri": "https://localhost:8080/"
        }
      },
      "execution_count": 32,
      "outputs": [
        {
          "output_type": "execute_result",
          "data": {
            "text/plain": [
              "array([[ 1.55740772, -2.18503986, -0.14254654,  1.15782128],\n",
              "       [-3.38051501, -0.29100619,  0.87144798, -6.79971146]])"
            ]
          },
          "metadata": {},
          "execution_count": 32
        }
      ]
    },
    {
      "cell_type": "code",
      "source": [
        "arr % 2 == 0"
      ],
      "metadata": {
        "id": "Esp-lEVJqB6A",
        "outputId": "1d6adc88-0e7e-4583-b112-1027f80a88d6",
        "colab": {
          "base_uri": "https://localhost:8080/"
        }
      },
      "execution_count": 34,
      "outputs": [
        {
          "output_type": "execute_result",
          "data": {
            "text/plain": [
              "array([[False,  True, False,  True],\n",
              "       [False,  True, False,  True]])"
            ]
          },
          "metadata": {},
          "execution_count": 34
        }
      ]
    },
    {
      "cell_type": "code",
      "source": [
        "A = np.array([[1, 1],[0, 1]])\n",
        "B = np.array([[2, 0],[3, 4]])"
      ],
      "metadata": {
        "id": "CyLfYZkAqKKw"
      },
      "execution_count": 35,
      "outputs": []
    },
    {
      "cell_type": "code",
      "source": [
        "A * B\n",
        "A @ B\n",
        "A.dot(B)"
      ],
      "metadata": {
        "id": "Z38ttz1eqXpX",
        "outputId": "f07b4e45-76fe-4b16-d319-caa769eec51d",
        "colab": {
          "base_uri": "https://localhost:8080/"
        }
      },
      "execution_count": 38,
      "outputs": [
        {
          "output_type": "execute_result",
          "data": {
            "text/plain": [
              "array([[5, 4],\n",
              "       [3, 4]])"
            ]
          },
          "metadata": {},
          "execution_count": 38
        }
      ]
    },
    {
      "cell_type": "code",
      "source": [
        "rg = np.random.default_rng(1)\n",
        "a = np.ones((2,3), dtype=int)\n",
        "b = rg.random((2,3))\n",
        "\n",
        "a*=3\n",
        "a\n",
        "b+=a\n",
        "b"
      ],
      "metadata": {
        "id": "B0eSJI7TqeNu",
        "outputId": "c63afdb0-e8ed-4708-95b4-97492ade910e",
        "colab": {
          "base_uri": "https://localhost:8080/"
        }
      },
      "execution_count": 57,
      "outputs": [
        {
          "output_type": "execute_result",
          "data": {
            "text/plain": [
              "array([[3.51182162, 3.9504637 , 3.14415961],\n",
              "       [3.94864945, 3.31183145, 3.42332645]])"
            ]
          },
          "metadata": {},
          "execution_count": 57
        }
      ]
    },
    {
      "cell_type": "code",
      "source": [
        "a = np.ones(3, dtype=\"int32\")\n",
        "b = np.linspace(0, np.pi, 3)\n",
        "b.dtype.name\n",
        "c = a + b\n",
        "d = np.exp(c * 1)\n",
        "d\n",
        "d.dtype.name"
      ],
      "metadata": {
        "id": "cphMl-yNrvWa",
        "outputId": "29f06c56-fe59-45b2-df47-3e183c6c8e00",
        "colab": {
          "base_uri": "https://localhost:8080/",
          "height": 35
        }
      },
      "execution_count": 54,
      "outputs": [
        {
          "output_type": "execute_result",
          "data": {
            "text/plain": [
              "'float64'"
            ],
            "application/vnd.google.colaboratory.intrinsic+json": {
              "type": "string"
            }
          },
          "metadata": {},
          "execution_count": 54
        }
      ]
    },
    {
      "cell_type": "code",
      "source": [
        "a = rg.random((2, 3))\n",
        "a.sum()\n",
        "a.min()\n",
        "a.max()"
      ],
      "metadata": {
        "id": "Njh4eVX7vCt6",
        "outputId": "1cf0fab1-c963-4f51-d6b0-e37a7e884cd3",
        "colab": {
          "base_uri": "https://localhost:8080/"
        }
      },
      "execution_count": 58,
      "outputs": [
        {
          "output_type": "execute_result",
          "data": {
            "text/plain": [
              "np.float64(0.8277025938204418)"
            ]
          },
          "metadata": {},
          "execution_count": 58
        }
      ]
    },
    {
      "cell_type": "code",
      "source": [
        "b = np.arange(12).reshape(3,4)\n",
        "b\n",
        "b.sum(axis=0)\n",
        "b.min(axis=1)\n",
        "b.cumsum(axis=1)"
      ],
      "metadata": {
        "id": "V2qBcMGivRGQ",
        "outputId": "05a4f528-a6d9-47fd-e5ec-b76a7889f207",
        "colab": {
          "base_uri": "https://localhost:8080/"
        }
      },
      "execution_count": 62,
      "outputs": [
        {
          "output_type": "execute_result",
          "data": {
            "text/plain": [
              "array([[ 0,  1,  3,  6],\n",
              "       [ 4,  9, 15, 22],\n",
              "       [ 8, 17, 27, 38]])"
            ]
          },
          "metadata": {},
          "execution_count": 62
        }
      ]
    },
    {
      "cell_type": "code",
      "source": [
        "a = np.arange(3)\n",
        "np.exp(a)\n",
        "np.sqrt(a)\n",
        "b = np.array([2, -1, 4])\n",
        "np.add(a,b)"
      ],
      "metadata": {
        "id": "FVm2HQ1twxXk",
        "outputId": "3d08d2fc-31be-4648-c35e-7a6f87e99411",
        "colab": {
          "base_uri": "https://localhost:8080/"
        }
      },
      "execution_count": 66,
      "outputs": [
        {
          "output_type": "execute_result",
          "data": {
            "text/plain": [
              "array([2, 0, 6])"
            ]
          },
          "metadata": {},
          "execution_count": 66
        }
      ]
    },
    {
      "cell_type": "code",
      "source": [
        "a = np.array([True, True, False])\n",
        "np.all(a)\n",
        "np.any(a)"
      ],
      "metadata": {
        "id": "gTlkV34zxJmQ",
        "outputId": "427b0b15-0ddc-48b4-b8e7-2d7998128aef",
        "colab": {
          "base_uri": "https://localhost:8080/"
        }
      },
      "execution_count": 68,
      "outputs": [
        {
          "output_type": "execute_result",
          "data": {
            "text/plain": [
              "np.True_"
            ]
          },
          "metadata": {},
          "execution_count": 68
        }
      ]
    },
    {
      "cell_type": "code",
      "source": [
        "data = np.array([10, 20, 30, 40, 50])\n",
        "mean = np.mean(data)\n",
        "std = np.std(data)\n",
        "normalized = (data - mean) / std\n",
        "\n",
        "print(\"Mean:\", mean)\n",
        "print(\"Std:\", std)\n",
        "print(\"Normalized:\", normalized)"
      ],
      "metadata": {
        "id": "EjCrf-PazJYh",
        "outputId": "448989f4-0b8d-4d8e-ce57-34fae23fe22e",
        "colab": {
          "base_uri": "https://localhost:8080/"
        }
      },
      "execution_count": 69,
      "outputs": [
        {
          "output_type": "stream",
          "name": "stdout",
          "text": [
            "Mean: 30.0\n",
            "Std: 14.142135623730951\n",
            "Normalized: [-1.41421356 -0.70710678  0.          0.70710678  1.41421356]\n"
          ]
        }
      ]
    },
    {
      "cell_type": "code",
      "source": [
        "scores = np.array([0.2, 0.5, 0.1, 0.9])\n",
        "\n",
        "total = np.sum(scores)\n",
        "max_score = np.max(scores)\n",
        "max_index = np.argmax(scores)\n",
        "\n",
        "print(\"Total:\", total)\n",
        "print(\"Max Score:\", max_score)\n",
        "print(\"Class with Max Score:\", max_index)"
      ],
      "metadata": {
        "id": "hNBqeq3D1SkZ",
        "outputId": "605812e9-201c-4e5b-ea97-7168c016e9c0",
        "colab": {
          "base_uri": "https://localhost:8080/"
        }
      },
      "execution_count": 71,
      "outputs": [
        {
          "output_type": "stream",
          "name": "stdout",
          "text": [
            "Total: 1.7\n",
            "Max Score: 0.9\n",
            "Class with Max Score: 3\n"
          ]
        }
      ]
    },
    {
      "cell_type": "code",
      "source": [
        "X = np.array([[1, 2], [3, 4]])\n",
        "weights = np.array([0.5, -1.0])\n",
        "\n",
        "predictions = np.dot(X, weights)\n",
        "print(\"Predictions:\", predictions)"
      ],
      "metadata": {
        "id": "SUrhlSQ31dhm",
        "outputId": "a6b2cd24-a97d-4a19-a40f-1d56bd45bced",
        "colab": {
          "base_uri": "https://localhost:8080/"
        }
      },
      "execution_count": 72,
      "outputs": [
        {
          "output_type": "stream",
          "name": "stdout",
          "text": [
            "Predictions: [-1.5 -2.5]\n"
          ]
        }
      ]
    },
    {
      "cell_type": "code",
      "source": [
        "arr = np.arange(6)\n",
        "reshaped = arr.reshape(2, 3)\n",
        "transposed = reshaped.T\n",
        "\n",
        "print(\"Original:\", arr)\n",
        "print(\"Reshaped:\\n\", reshaped)\n",
        "print(\"Transposed:\\n\", transposed)"
      ],
      "metadata": {
        "id": "W93HqLTJ1p65",
        "outputId": "cbf6c2b4-11cc-4f9b-a990-d7e4b1cb3be1",
        "colab": {
          "base_uri": "https://localhost:8080/"
        }
      },
      "execution_count": 73,
      "outputs": [
        {
          "output_type": "stream",
          "name": "stdout",
          "text": [
            "Original: [0 1 2 3 4 5]\n",
            "Reshaped:\n",
            " [[0 1 2]\n",
            " [3 4 5]]\n",
            "Transposed:\n",
            " [[0 3]\n",
            " [1 4]\n",
            " [2 5]]\n"
          ]
        }
      ]
    },
    {
      "cell_type": "code",
      "source": [
        "data = np.array([1, 5, 10, 20])\n",
        "capped = np.where(data > 10, 10, data)\n",
        "\n",
        "print(\"Original:\", data)\n",
        "print(\"Capped:\", capped)"
      ],
      "metadata": {
        "id": "Hnls4o4p1-Ik",
        "outputId": "a745716c-6505-423e-d900-01ca06f25999",
        "colab": {
          "base_uri": "https://localhost:8080/"
        }
      },
      "execution_count": 74,
      "outputs": [
        {
          "output_type": "stream",
          "name": "stdout",
          "text": [
            "Original: [ 1  5 10 20]\n",
            "Capped: [ 1  5 10 10]\n"
          ]
        }
      ]
    },
    {
      "cell_type": "code",
      "source": [
        "probs = np.array([0.3, 0.8, 0.5, 0.1])\n",
        "sorted_indices = np.argsort(probs)[::-1]\n",
        "\n",
        "print(\"Sorted indices (best to worst):\", sorted_indices)\n",
        "print(\"Sorted probs:\", probs[sorted_indices])"
      ],
      "metadata": {
        "id": "V7pgPQ2v4Lvw",
        "outputId": "b3ee1910-04f6-4cac-cef8-2fde5876d229",
        "colab": {
          "base_uri": "https://localhost:8080/"
        }
      },
      "execution_count": 77,
      "outputs": [
        {
          "output_type": "stream",
          "name": "stdout",
          "text": [
            "Sorted indices (best to worst): [1 2 0 3]\n",
            "Sorted probs: [0.8 0.5 0.3 0.1]\n"
          ]
        }
      ]
    },
    {
      "cell_type": "code",
      "source": [
        "labels = np.array([1, 0, 1, 2, 0, 1, 2])\n",
        "unique_classes, counts = np.unique(labels, return_counts=True)\n",
        "\n",
        "print(\"Classes:\", unique_classes)\n",
        "print(\"Counts:\", counts)\n",
        "\n",
        "counts_bincount = np.bincount(labels)\n",
        "print(\"Counts (bincount):\", counts_bincount)"
      ],
      "metadata": {
        "id": "rmcr6l3R4Weu",
        "outputId": "6d221d49-3cff-4fa1-f2b5-f088d61a0346",
        "colab": {
          "base_uri": "https://localhost:8080/"
        }
      },
      "execution_count": 78,
      "outputs": [
        {
          "output_type": "stream",
          "name": "stdout",
          "text": [
            "Classes: [0 1 2]\n",
            "Counts: [2 3 2]\n",
            "Counts (bincount): [2 3 2]\n"
          ]
        }
      ]
    },
    {
      "cell_type": "code",
      "source": [
        "preds = np.array([0.1, 1.5, -0.3, 0.8])\n",
        "clipped = np.clip(preds, 0, 1)  # Force to [0, 1] range\n",
        "\n",
        "print(\"Original:\", preds)\n",
        "print(\"Clipped:\", clipped)"
      ],
      "metadata": {
        "id": "dlb2byef4nb8",
        "outputId": "0cf59683-2cb4-47a3-c050-70a03056627a",
        "colab": {
          "base_uri": "https://localhost:8080/"
        }
      },
      "execution_count": 79,
      "outputs": [
        {
          "output_type": "stream",
          "name": "stdout",
          "text": [
            "Original: [ 0.1  1.5 -0.3  0.8]\n",
            "Clipped: [0.1 1.  0.  0.8]\n"
          ]
        }
      ]
    },
    {
      "cell_type": "code",
      "source": [
        "x = np.linspace(0, np.pi, 5)\n",
        "print(\"Evenly spaced values between 0 and pi:\", x)"
      ],
      "metadata": {
        "id": "mzGWNxt14o36",
        "outputId": "1431d174-cdd2-47ce-e727-65de4a2e7101",
        "colab": {
          "base_uri": "https://localhost:8080/"
        }
      },
      "execution_count": 80,
      "outputs": [
        {
          "output_type": "stream",
          "name": "stdout",
          "text": [
            "Evenly spaced values between 0 and pi: [0.         0.78539816 1.57079633 2.35619449 3.14159265]\n"
          ]
        }
      ]
    },
    {
      "cell_type": "code",
      "source": [
        "a = np.arange(10)**3\n",
        "a\n",
        "a[2]\n",
        "a[2:5]\n",
        "a[:6:2] = 1000\n",
        "a\n",
        "a[::-1]  # reversed a\n",
        "for i in a:\n",
        "    print(i**(1 / 3.))"
      ],
      "metadata": {
        "id": "ocrNTXWVNXuU",
        "outputId": "9dd08932-a57f-4c16-84a0-9321eec772dc",
        "colab": {
          "base_uri": "https://localhost:8080/"
        }
      },
      "execution_count": 82,
      "outputs": [
        {
          "output_type": "stream",
          "name": "stdout",
          "text": [
            "9.999999999999998\n",
            "1.0\n",
            "9.999999999999998\n",
            "3.0\n",
            "9.999999999999998\n",
            "4.999999999999999\n",
            "5.999999999999999\n",
            "6.999999999999999\n",
            "7.999999999999999\n",
            "8.999999999999998\n"
          ]
        }
      ]
    },
    {
      "cell_type": "code",
      "source": [
        "def f(x,y):\n",
        "  return 10 * x+y\n",
        "b = np.fromfunction(f, (5,4), dtype=int)\n",
        "b[2, 3]\n",
        "b[0:5, 1]\n",
        "b[:, 1]\n",
        "b[1:3, :]\n",
        "b[-1]\n",
        "\n",
        "for row in b:\n",
        "  print(row)\n",
        "\n",
        "for element in b.flat:\n",
        "  print(element)"
      ],
      "metadata": {
        "id": "ib9_Qxj0Nk8e",
        "outputId": "7670ddaf-92ab-464a-d98b-aecd1ca6af05",
        "colab": {
          "base_uri": "https://localhost:8080/"
        }
      },
      "execution_count": 95,
      "outputs": [
        {
          "output_type": "stream",
          "name": "stdout",
          "text": [
            "[0 1 2 3]\n",
            "[10 11 12 13]\n",
            "[20 21 22 23]\n",
            "[30 31 32 33]\n",
            "[40 41 42 43]\n",
            "0\n",
            "1\n",
            "2\n",
            "3\n",
            "10\n",
            "11\n",
            "12\n",
            "13\n",
            "20\n",
            "21\n",
            "22\n",
            "23\n",
            "30\n",
            "31\n",
            "32\n",
            "33\n",
            "40\n",
            "41\n",
            "42\n",
            "43\n"
          ]
        }
      ]
    },
    {
      "cell_type": "code",
      "source": [
        "c = np.array([[[  0,  1,  2],\n",
        "               [ 10, 12, 13]],\n",
        "              [[100, 101, 102],\n",
        "               [110, 112, 113]]])\n",
        "c.shape\n",
        "c[..., 2]\n",
        "c[1, ...]"
      ],
      "metadata": {
        "id": "1fRBRtMEOHz6",
        "outputId": "6bdbdd14-8bff-4f6f-e8b1-ff3ce594173a",
        "colab": {
          "base_uri": "https://localhost:8080/"
        }
      },
      "execution_count": 97,
      "outputs": [
        {
          "output_type": "execute_result",
          "data": {
            "text/plain": [
              "array([[100, 101, 102],\n",
              "       [110, 112, 113]])"
            ]
          },
          "metadata": {},
          "execution_count": 97
        }
      ]
    },
    {
      "cell_type": "code",
      "source": [
        "x = 3.567\n",
        "print('np.round:', np.round(x))\n",
        "print('np.floor:', np.floor(x))\n",
        "print('np.ceil:', np.ceil(x))\n",
        "print('np.trunc:', np.trunc(x))\n",
        "print('np.rint:', np.rint(x))\n",
        "print('np.fix:', np.fix(x))"
      ],
      "metadata": {
        "id": "E-m3iHJCO0Na",
        "outputId": "ef829b9c-5cd2-4af7-de8c-6dd7cb245571",
        "colab": {
          "base_uri": "https://localhost:8080/"
        }
      },
      "execution_count": 96,
      "outputs": [
        {
          "output_type": "stream",
          "name": "stdout",
          "text": [
            "np.round: 4.0\n",
            "np.floor: 3.0\n",
            "np.ceil: 4.0\n",
            "np.trunc: 3.0\n",
            "np.rint: 4.0\n",
            "np.fix: 3.0\n"
          ]
        }
      ]
    },
    {
      "cell_type": "code",
      "source": [
        "x = np.array([[[  0,  1,  2],\n",
        "               [ 10, 12, 13]],\n",
        "              [[100, 101, 102],\n",
        "               [110, 112, 113]]])\n",
        "x.ravel()\n",
        "x.reshape((6,2))\n",
        "x.T\n",
        "x.T.shape\n",
        "x.shape"
      ],
      "metadata": {
        "id": "IVNNeLz_PbqT",
        "outputId": "3e46aef6-5992-49d5-c169-a44f93e5a950",
        "colab": {
          "base_uri": "https://localhost:8080/"
        }
      },
      "execution_count": 108,
      "outputs": [
        {
          "output_type": "execute_result",
          "data": {
            "text/plain": [
              "(2, 2, 3)"
            ]
          },
          "metadata": {},
          "execution_count": 108
        }
      ]
    },
    {
      "cell_type": "code",
      "source": [
        "x.resize((2,6))\n",
        "x.reshape((3, -1))"
      ],
      "metadata": {
        "id": "V_W5z2uIQ8ME",
        "outputId": "8c466703-a476-40ee-b547-8b1b90f09c5b",
        "colab": {
          "base_uri": "https://localhost:8080/"
        }
      },
      "execution_count": 111,
      "outputs": [
        {
          "output_type": "execute_result",
          "data": {
            "text/plain": [
              "array([[  0,   1,   2,  10],\n",
              "       [ 12,  13, 100, 101],\n",
              "       [102, 110, 112, 113]])"
            ]
          },
          "metadata": {},
          "execution_count": 111
        }
      ]
    },
    {
      "cell_type": "code",
      "source": [
        "a = np.floor(10 * rg.random((2, 2)))\n",
        "a\n",
        "b = np.floor(10 * rg.random((2, 2)))\n",
        "b\n",
        "np.vstack((a, b))\n",
        "np.hstack((a, b))"
      ],
      "metadata": {
        "id": "QF1R6jrFRFuI",
        "outputId": "c8ae428e-b4ee-47a3-c223-2e7923b11f98",
        "colab": {
          "base_uri": "https://localhost:8080/"
        }
      },
      "execution_count": 112,
      "outputs": [
        {
          "output_type": "execute_result",
          "data": {
            "text/plain": [
              "array([[3., 7., 1., 4.],\n",
              "       [3., 4., 2., 2.]])"
            ]
          },
          "metadata": {},
          "execution_count": 112
        }
      ]
    },
    {
      "cell_type": "code",
      "source": [
        "np.column_stack((a,b))\n",
        "p = np.array([4., 2.])\n",
        "q = np.array([3., 8.])\n",
        "np.column_stack((p, q))\n",
        "p[:, np.newaxis]\n",
        "np.column_stack((a[:,np.newaxis], b[:,np.newaxis]))\n",
        "np.hstack((a[:, np.newaxis], b[:, np.newaxis]))"
      ],
      "metadata": {
        "id": "1s_imClqRO-o",
        "outputId": "8d806469-086c-4d59-9dd9-a87bb873f5e9",
        "colab": {
          "base_uri": "https://localhost:8080/"
        }
      },
      "execution_count": 120,
      "outputs": [
        {
          "output_type": "execute_result",
          "data": {
            "text/plain": [
              "array([[[3., 7.],\n",
              "        [1., 4.]],\n",
              "\n",
              "       [[3., 4.],\n",
              "        [2., 2.]]])"
            ]
          },
          "metadata": {},
          "execution_count": 120
        }
      ]
    },
    {
      "cell_type": "code",
      "source": [
        "a = np.floor(10 * rg.random((2, 12)))\n",
        "a\n",
        "np.hsplit(a, 3)\n",
        "np.hsplit(a, (3, 4))\n",
        "np.vsplit(a, (3, 4))"
      ],
      "metadata": {
        "id": "7vsFyzOUR1PQ",
        "outputId": "28dae20c-c013-4e89-f636-2a4d0eb4afd0",
        "colab": {
          "base_uri": "https://localhost:8080/"
        }
      },
      "execution_count": 124,
      "outputs": [
        {
          "output_type": "execute_result",
          "data": {
            "text/plain": [
              "[array([[3., 0., 2., 4., 1., 6., 3., 7., 6., 4., 8., 6.],\n",
              "        [8., 3., 5., 1., 9., 2., 2., 0., 2., 7., 6., 1.]]),\n",
              " array([], shape=(0, 12), dtype=float64),\n",
              " array([], shape=(0, 12), dtype=float64)]"
            ]
          },
          "metadata": {},
          "execution_count": 124
        }
      ]
    },
    {
      "cell_type": "code",
      "source": [
        "a = np.array([[ 0,  1,  2,  3],\n",
        "              [ 4,  5,  6,  7],\n",
        "              [ 8,  9, 10, 11]])\n",
        "b = a\n",
        "b is a"
      ],
      "metadata": {
        "id": "P4BgsU5NShl3",
        "outputId": "66b76c55-f1bb-41ed-c1da-acc825698dd4",
        "colab": {
          "base_uri": "https://localhost:8080/"
        }
      },
      "execution_count": 125,
      "outputs": [
        {
          "output_type": "execute_result",
          "data": {
            "text/plain": [
              "True"
            ]
          },
          "metadata": {},
          "execution_count": 125
        }
      ]
    },
    {
      "cell_type": "code",
      "source": [
        "def f(x):\n",
        "    print(id(x))\n",
        "id(a)\n",
        "f(a)"
      ],
      "metadata": {
        "id": "DY60sb70So9C",
        "outputId": "b9236177-028e-4253-d2dd-3616bd3c6b2f",
        "colab": {
          "base_uri": "https://localhost:8080/"
        }
      },
      "execution_count": 126,
      "outputs": [
        {
          "output_type": "stream",
          "name": "stdout",
          "text": [
            "132322638807376\n"
          ]
        }
      ]
    },
    {
      "cell_type": "code",
      "source": [
        "c = a.view()\n",
        "c is a\n",
        "c.base is a\n",
        "c.flags.owndata\n",
        "c = c.reshape((2, 6))\n",
        "a.shape\n",
        "c[0, 4] = 1234\n",
        "a"
      ],
      "metadata": {
        "id": "WHoFO2EdSvdp",
        "outputId": "8e296f31-c411-4a6e-fdab-c3e9707c1471",
        "colab": {
          "base_uri": "https://localhost:8080/"
        }
      },
      "execution_count": 128,
      "outputs": [
        {
          "output_type": "execute_result",
          "data": {
            "text/plain": [
              "True"
            ]
          },
          "metadata": {},
          "execution_count": 128
        }
      ]
    },
    {
      "cell_type": "code",
      "source": [
        "d = a.copy()\n",
        "d is a\n",
        "d.base is a\n",
        "d[0, 0] = 9999\n",
        "a"
      ],
      "metadata": {
        "id": "FAQIuzetY5lt",
        "outputId": "d769c7e6-13fd-4743-d619-8e8f244bb8a9",
        "colab": {
          "base_uri": "https://localhost:8080/"
        }
      },
      "execution_count": 129,
      "outputs": [
        {
          "output_type": "execute_result",
          "data": {
            "text/plain": [
              "array([[   0,    1,    2,    3],\n",
              "       [1234,    5,    6,    7],\n",
              "       [   8,    9,   10,   11]])"
            ]
          },
          "metadata": {},
          "execution_count": 129
        }
      ]
    },
    {
      "cell_type": "code",
      "source": [
        "palette = np.array([[0, 0, 0],         # black\n",
        "                    [255, 0, 0],       # red\n",
        "                    [0, 255, 0],       # green\n",
        "                    [0, 0, 255],       # blue\n",
        "                    [255, 255, 255]])  # white\n",
        "image = np.array([[0, 1, 2, 0],\n",
        "                  [0, 3, 4, 0]])\n",
        "palette[image]"
      ],
      "metadata": {
        "id": "umaUnIesZfR1",
        "outputId": "1366cf25-8003-4f91-a1e9-1cff39b20152",
        "colab": {
          "base_uri": "https://localhost:8080/"
        }
      },
      "execution_count": 130,
      "outputs": [
        {
          "output_type": "execute_result",
          "data": {
            "text/plain": [
              "array([[[  0,   0,   0],\n",
              "        [255,   0,   0],\n",
              "        [  0, 255,   0],\n",
              "        [  0,   0,   0]],\n",
              "\n",
              "       [[  0,   0,   0],\n",
              "        [  0,   0, 255],\n",
              "        [255, 255, 255],\n",
              "        [  0,   0,   0]]])"
            ]
          },
          "metadata": {},
          "execution_count": 130
        }
      ]
    },
    {
      "cell_type": "code",
      "source": [
        "a = np.arange(12).reshape(3, 4)\n",
        "a\n",
        "i = np.array([[0, 1],\n",
        "              [1, 2]])\n",
        "j = np.array([[2, 1],\n",
        "              [3, 3]])\n",
        "a[i, j]\n",
        "a[i, 2]\n",
        "a[:, j]"
      ],
      "metadata": {
        "id": "-oKUTyycZxDa",
        "outputId": "19ff9acf-49bc-4060-90d1-8d6d30fa974e",
        "colab": {
          "base_uri": "https://localhost:8080/"
        }
      },
      "execution_count": 131,
      "outputs": [
        {
          "output_type": "execute_result",
          "data": {
            "text/plain": [
              "array([[[ 2,  1],\n",
              "        [ 3,  3]],\n",
              "\n",
              "       [[ 6,  5],\n",
              "        [ 7,  7]],\n",
              "\n",
              "       [[10,  9],\n",
              "        [11, 11]]])"
            ]
          },
          "metadata": {},
          "execution_count": 131
        }
      ]
    },
    {
      "cell_type": "code",
      "source": [
        "a = np.array([10, 20, 30, 40, 50])\n",
        "indices = [0, 2, 4]\n",
        "print(a[indices])"
      ],
      "metadata": {
        "id": "jTRQUoHhGD8s",
        "outputId": "3c07b737-318b-4697-9a61-a37e402291a6",
        "colab": {
          "base_uri": "https://localhost:8080/"
        }
      },
      "execution_count": 3,
      "outputs": [
        {
          "output_type": "stream",
          "name": "stdout",
          "text": [
            "[10 30 50]\n"
          ]
        }
      ]
    },
    {
      "cell_type": "code",
      "source": [
        "a = np.array([[1, 2, 3], [4, 5, 6], [7, 8, 9]])\n",
        "rows = np.array([0, 1, 2])\n",
        "cols = np.array([2, 1, 0])\n",
        "print(a[rows, cols])"
      ],
      "metadata": {
        "id": "euwE_taNGMHG",
        "outputId": "6fa62c37-5cc4-4a3e-abdc-6864e33fc090",
        "colab": {
          "base_uri": "https://localhost:8080/"
        }
      },
      "execution_count": 4,
      "outputs": [
        {
          "output_type": "stream",
          "name": "stdout",
          "text": [
            "[3 5 7]\n"
          ]
        }
      ]
    },
    {
      "cell_type": "code",
      "source": [
        "a = np.array([[10, 20, 30], [40, 50, 60], [70, 80, 90]])\n",
        "rows = np.array([0, 2])\n",
        "cols = np.array([1, 2])\n",
        "ixgrid = np.ix_(rows, cols)\n",
        "print(a[ixgrid])"
      ],
      "metadata": {
        "id": "TghP3MhmGn9W",
        "outputId": "4caead70-e2d2-4189-ad2a-01f9f737ef28",
        "colab": {
          "base_uri": "https://localhost:8080/"
        }
      },
      "execution_count": 5,
      "outputs": [
        {
          "output_type": "stream",
          "name": "stdout",
          "text": [
            "[[20 30]\n",
            " [80 90]]\n"
          ]
        }
      ]
    },
    {
      "cell_type": "code",
      "source": [
        "a = np.array([(1, 2.0, 'A'), (2, 3.0, 'B')], dtype=[('x', 'i4'), ('y', 'f4'), ('z', 'U1')])\n",
        "print(a['x'])\n",
        "print(a['z'])"
      ],
      "metadata": {
        "id": "wqeXmVP2HIfL",
        "outputId": "2c39494d-80a9-4955-f052-2fdf2c2a654d",
        "colab": {
          "base_uri": "https://localhost:8080/"
        }
      },
      "execution_count": 8,
      "outputs": [
        {
          "output_type": "stream",
          "name": "stdout",
          "text": [
            "[1 2]\n",
            "['A' 'B']\n"
          ]
        }
      ]
    },
    {
      "cell_type": "code",
      "source": [
        "a = np.array([1, 2, 3, 4])\n",
        "print(np.add.reduce(a))"
      ],
      "metadata": {
        "id": "SM9k__75HS_t",
        "outputId": "bf86400f-f84c-4887-9f5b-050a3607a51c",
        "colab": {
          "base_uri": "https://localhost:8080/"
        }
      },
      "execution_count": 7,
      "outputs": [
        {
          "output_type": "stream",
          "name": "stdout",
          "text": [
            "10\n"
          ]
        }
      ]
    }
  ],
  "metadata": {
    "kernelspec": {
      "display_name": "Python 3",
      "language": "python",
      "name": "python3"
    },
    "language_info": {
      "codemirror_mode": {
        "name": "ipython",
        "version": 3
      },
      "file_extension": ".py",
      "mimetype": "text/x-python",
      "name": "python",
      "nbconvert_exporter": "python",
      "pygments_lexer": "ipython3",
      "version": "3.6.5"
    },
    "colab": {
      "provenance": [],
      "include_colab_link": true
    }
  },
  "nbformat": 4,
  "nbformat_minor": 0
}