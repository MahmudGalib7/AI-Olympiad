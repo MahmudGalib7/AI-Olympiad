{
  "cells": [
    {
      "cell_type": "markdown",
      "id": "0e4d40b4",
      "metadata": {
        "id": "0e4d40b4"
      },
      "source": [
        "# IAC-31 Assignment 01: Titanic Survival Prediction\n",
        "\n",
        "**Student Name:** Mahmud Galib  \n",
        "**Course:** IAC-31 - Introduction to Artificial Intelligence and Computing  \n",
        "**Institution:** Bangladesh University of Engineering and Technology (BUET)  \n",
        "**Assignment:** Assignment 01 - Titanic Dataset\n"
      ]
    },
    {
      "cell_type": "markdown",
      "id": "1aebf064",
      "metadata": {
        "id": "1aebf064"
      },
      "source": [
        "## 1. Import Required Libraries"
      ]
    },
    {
      "cell_type": "code",
      "execution_count": 1,
      "id": "7a7b9de1",
      "metadata": {
        "id": "7a7b9de1"
      },
      "outputs": [],
      "source": [
        "import pandas as pd\n",
        "import numpy as np\n",
        "import matplotlib.pyplot as plt\n",
        "import seaborn as sns\n",
        "\n",
        "from sklearn.model_selection import train_test_split\n",
        "from sklearn.preprocessing import LabelEncoder, StandardScaler\n",
        "from sklearn.tree import DecisionTreeClassifier\n",
        "from sklearn.linear_model import LogisticRegression\n",
        "from sklearn.neighbors import KNeighborsClassifier\n",
        "from sklearn.neural_network import MLPClassifier\n",
        "from sklearn.metrics import accuracy_score, classification_report, confusion_matrix"
      ]
    },
    {
      "cell_type": "markdown",
      "id": "e075c21a",
      "metadata": {
        "id": "e075c21a"
      },
      "source": [
        "## 2. Load and Explore the Dataset"
      ]
    },
    {
      "cell_type": "code",
      "execution_count": 2,
      "id": "f4956ed4",
      "metadata": {
        "id": "f4956ed4",
        "outputId": "5d67b218-76e4-40a9-9870-3d5adc13fc2b"
      },
      "outputs": [
        {
          "name": "stdout",
          "output_type": "stream",
          "text": [
            "Training data shape: (891, 12)\n",
            "Test data shape: (418, 11)\n",
            "\n",
            "First few rows:\n"
          ]
        },
        {
          "data": {
            "application/vnd.microsoft.datawrangler.viewer.v0+json": {
              "columns": [
                {
                  "name": "index",
                  "rawType": "int64",
                  "type": "integer"
                },
                {
                  "name": "PassengerId",
                  "rawType": "int64",
                  "type": "integer"
                },
                {
                  "name": "Survived",
                  "rawType": "int64",
                  "type": "integer"
                },
                {
                  "name": "Pclass",
                  "rawType": "int64",
                  "type": "integer"
                },
                {
                  "name": "Name",
                  "rawType": "object",
                  "type": "string"
                },
                {
                  "name": "Sex",
                  "rawType": "object",
                  "type": "string"
                },
                {
                  "name": "Age",
                  "rawType": "float64",
                  "type": "float"
                },
                {
                  "name": "SibSp",
                  "rawType": "int64",
                  "type": "integer"
                },
                {
                  "name": "Parch",
                  "rawType": "int64",
                  "type": "integer"
                },
                {
                  "name": "Ticket",
                  "rawType": "object",
                  "type": "string"
                },
                {
                  "name": "Fare",
                  "rawType": "float64",
                  "type": "float"
                },
                {
                  "name": "Cabin",
                  "rawType": "object",
                  "type": "unknown"
                },
                {
                  "name": "Embarked",
                  "rawType": "object",
                  "type": "string"
                }
              ],
              "ref": "63db7647-846b-46ca-be3f-ee2552beb2d4",
              "rows": [
                [
                  "0",
                  "1",
                  "0",
                  "3",
                  "Braund, Mr. Owen Harris",
                  "male",
                  "22.0",
                  "1",
                  "0",
                  "A/5 21171",
                  "7.25",
                  null,
                  "S"
                ],
                [
                  "1",
                  "2",
                  "1",
                  "1",
                  "Cumings, Mrs. John Bradley (Florence Briggs Thayer)",
                  "female",
                  "38.0",
                  "1",
                  "0",
                  "PC 17599",
                  "71.2833",
                  "C85",
                  "C"
                ],
                [
                  "2",
                  "3",
                  "1",
                  "3",
                  "Heikkinen, Miss. Laina",
                  "female",
                  "26.0",
                  "0",
                  "0",
                  "STON/O2. 3101282",
                  "7.925",
                  null,
                  "S"
                ],
                [
                  "3",
                  "4",
                  "1",
                  "1",
                  "Futrelle, Mrs. Jacques Heath (Lily May Peel)",
                  "female",
                  "35.0",
                  "1",
                  "0",
                  "113803",
                  "53.1",
                  "C123",
                  "S"
                ],
                [
                  "4",
                  "5",
                  "0",
                  "3",
                  "Allen, Mr. William Henry",
                  "male",
                  "35.0",
                  "0",
                  "0",
                  "373450",
                  "8.05",
                  null,
                  "S"
                ]
              ],
              "shape": {
                "columns": 12,
                "rows": 5
              }
            },
            "text/html": [
              "<div>\n",
              "<style scoped>\n",
              "    .dataframe tbody tr th:only-of-type {\n",
              "        vertical-align: middle;\n",
              "    }\n",
              "\n",
              "    .dataframe tbody tr th {\n",
              "        vertical-align: top;\n",
              "    }\n",
              "\n",
              "    .dataframe thead th {\n",
              "        text-align: right;\n",
              "    }\n",
              "</style>\n",
              "<table border=\"1\" class=\"dataframe\">\n",
              "  <thead>\n",
              "    <tr style=\"text-align: right;\">\n",
              "      <th></th>\n",
              "      <th>PassengerId</th>\n",
              "      <th>Survived</th>\n",
              "      <th>Pclass</th>\n",
              "      <th>Name</th>\n",
              "      <th>Sex</th>\n",
              "      <th>Age</th>\n",
              "      <th>SibSp</th>\n",
              "      <th>Parch</th>\n",
              "      <th>Ticket</th>\n",
              "      <th>Fare</th>\n",
              "      <th>Cabin</th>\n",
              "      <th>Embarked</th>\n",
              "    </tr>\n",
              "  </thead>\n",
              "  <tbody>\n",
              "    <tr>\n",
              "      <th>0</th>\n",
              "      <td>1</td>\n",
              "      <td>0</td>\n",
              "      <td>3</td>\n",
              "      <td>Braund, Mr. Owen Harris</td>\n",
              "      <td>male</td>\n",
              "      <td>22.0</td>\n",
              "      <td>1</td>\n",
              "      <td>0</td>\n",
              "      <td>A/5 21171</td>\n",
              "      <td>7.2500</td>\n",
              "      <td>NaN</td>\n",
              "      <td>S</td>\n",
              "    </tr>\n",
              "    <tr>\n",
              "      <th>1</th>\n",
              "      <td>2</td>\n",
              "      <td>1</td>\n",
              "      <td>1</td>\n",
              "      <td>Cumings, Mrs. John Bradley (Florence Briggs Th...</td>\n",
              "      <td>female</td>\n",
              "      <td>38.0</td>\n",
              "      <td>1</td>\n",
              "      <td>0</td>\n",
              "      <td>PC 17599</td>\n",
              "      <td>71.2833</td>\n",
              "      <td>C85</td>\n",
              "      <td>C</td>\n",
              "    </tr>\n",
              "    <tr>\n",
              "      <th>2</th>\n",
              "      <td>3</td>\n",
              "      <td>1</td>\n",
              "      <td>3</td>\n",
              "      <td>Heikkinen, Miss. Laina</td>\n",
              "      <td>female</td>\n",
              "      <td>26.0</td>\n",
              "      <td>0</td>\n",
              "      <td>0</td>\n",
              "      <td>STON/O2. 3101282</td>\n",
              "      <td>7.9250</td>\n",
              "      <td>NaN</td>\n",
              "      <td>S</td>\n",
              "    </tr>\n",
              "    <tr>\n",
              "      <th>3</th>\n",
              "      <td>4</td>\n",
              "      <td>1</td>\n",
              "      <td>1</td>\n",
              "      <td>Futrelle, Mrs. Jacques Heath (Lily May Peel)</td>\n",
              "      <td>female</td>\n",
              "      <td>35.0</td>\n",
              "      <td>1</td>\n",
              "      <td>0</td>\n",
              "      <td>113803</td>\n",
              "      <td>53.1000</td>\n",
              "      <td>C123</td>\n",
              "      <td>S</td>\n",
              "    </tr>\n",
              "    <tr>\n",
              "      <th>4</th>\n",
              "      <td>5</td>\n",
              "      <td>0</td>\n",
              "      <td>3</td>\n",
              "      <td>Allen, Mr. William Henry</td>\n",
              "      <td>male</td>\n",
              "      <td>35.0</td>\n",
              "      <td>0</td>\n",
              "      <td>0</td>\n",
              "      <td>373450</td>\n",
              "      <td>8.0500</td>\n",
              "      <td>NaN</td>\n",
              "      <td>S</td>\n",
              "    </tr>\n",
              "  </tbody>\n",
              "</table>\n",
              "</div>"
            ],
            "text/plain": [
              "   PassengerId  Survived  Pclass  \\\n",
              "0            1         0       3   \n",
              "1            2         1       1   \n",
              "2            3         1       3   \n",
              "3            4         1       1   \n",
              "4            5         0       3   \n",
              "\n",
              "                                                Name     Sex   Age  SibSp  \\\n",
              "0                            Braund, Mr. Owen Harris    male  22.0      1   \n",
              "1  Cumings, Mrs. John Bradley (Florence Briggs Th...  female  38.0      1   \n",
              "2                             Heikkinen, Miss. Laina  female  26.0      0   \n",
              "3       Futrelle, Mrs. Jacques Heath (Lily May Peel)  female  35.0      1   \n",
              "4                           Allen, Mr. William Henry    male  35.0      0   \n",
              "\n",
              "   Parch            Ticket     Fare Cabin Embarked  \n",
              "0      0         A/5 21171   7.2500   NaN        S  \n",
              "1      0          PC 17599  71.2833   C85        C  \n",
              "2      0  STON/O2. 3101282   7.9250   NaN        S  \n",
              "3      0            113803  53.1000  C123        S  \n",
              "4      0            373450   8.0500   NaN        S  "
            ]
          },
          "execution_count": 2,
          "metadata": {},
          "output_type": "execute_result"
        }
      ],
      "source": [
        "train_data = pd.read_csv('titanic/train.csv')\n",
        "test_data = pd.read_csv('titanic/test.csv')\n",
        "\n",
        "print(f\"Training data shape: {train_data.shape}\")\n",
        "print(f\"Test data shape: {test_data.shape}\")\n",
        "print(\"\\nFirst few rows:\")\n",
        "train_data.head()"
      ]
    },
    {
      "cell_type": "code",
      "execution_count": 3,
      "id": "5b02d9d3",
      "metadata": {
        "id": "5b02d9d3",
        "outputId": "6b16b359-9e49-49ed-9ced-02bdee131e80"
      },
      "outputs": [
        {
          "name": "stdout",
          "output_type": "stream",
          "text": [
            "Dataset Information:\n",
            "<class 'pandas.core.frame.DataFrame'>\n",
            "RangeIndex: 891 entries, 0 to 890\n",
            "Data columns (total 12 columns):\n",
            " #   Column       Non-Null Count  Dtype  \n",
            "---  ------       --------------  -----  \n",
            " 0   PassengerId  891 non-null    int64  \n",
            " 1   Survived     891 non-null    int64  \n",
            " 2   Pclass       891 non-null    int64  \n",
            " 3   Name         891 non-null    object \n",
            " 4   Sex          891 non-null    object \n",
            " 5   Age          714 non-null    float64\n",
            " 6   SibSp        891 non-null    int64  \n",
            " 7   Parch        891 non-null    int64  \n",
            " 8   Ticket       891 non-null    object \n",
            " 9   Fare         891 non-null    float64\n",
            " 10  Cabin        204 non-null    object \n",
            " 11  Embarked     889 non-null    object \n",
            "dtypes: float64(2), int64(5), object(5)\n",
            "memory usage: 83.7+ KB\n",
            "None\n",
            "\n",
            "Missing Values:\n",
            "PassengerId      0\n",
            "Survived         0\n",
            "Pclass           0\n",
            "Name             0\n",
            "Sex              0\n",
            "Age            177\n",
            "SibSp            0\n",
            "Parch            0\n",
            "Ticket           0\n",
            "Fare             0\n",
            "Cabin          687\n",
            "Embarked         2\n",
            "dtype: int64\n",
            "\n",
            "Survival Statistics:\n",
            "Survived\n",
            "0    549\n",
            "1    342\n",
            "Name: count, dtype: int64\n",
            "Survival Rate: 0.384\n"
          ]
        }
      ],
      "source": [
        "print(\"Dataset Information:\")\n",
        "print(train_data.info())\n",
        "print(\"\\nMissing Values:\")\n",
        "print(train_data.isnull().sum())\n",
        "print(\"\\nSurvival Statistics:\")\n",
        "print(train_data['Survived'].value_counts())\n",
        "print(f\"Survival Rate: {train_data['Survived'].mean():.3f}\")"
      ]
    },
    {
      "cell_type": "markdown",
      "id": "ace18306",
      "metadata": {
        "id": "ace18306"
      },
      "source": [
        "## 3. Data Visualization and Analysis"
      ]
    },
    {
      "cell_type": "code",
      "execution_count": 4,
      "id": "655fb29f",
      "metadata": {
        "id": "655fb29f",
        "outputId": "6028106a-7306-48fe-9cb3-5b824f6d7a28"
      },
      "outputs": [
        {
          "data": {
            "image/png": "[encoded data removed]",
            "text/plain": [
              "<Figure size 1500x1000 with 4 Axes>"
            ]
          },
          "metadata": {},
          "output_type": "display_data"
        },
        {
          "name": "stdout",
          "output_type": "stream",
          "text": [
            "Key Insights:\n",
            "Female survival rate: 0.742\n",
            "Male survival rate: 0.189\n",
            "1st class survival rate: 0.630\n",
            "3rd class survival rate: 0.242\n"
          ]
        }
      ],
      "source": [
        "fig, axes = plt.subplots(2, 2, figsize=(15, 10))\n",
        "\n",
        "sns.countplot(data=train_data, x='Sex', hue='Survived', ax=axes[0,0])\n",
        "axes[0,0].set_title('Survival by Gender')\n",
        "\n",
        "sns.countplot(data=train_data, x='Pclass', hue='Survived', ax=axes[0,1])\n",
        "axes[0,1].set_title('Survival by Passenger Class')\n",
        "\n",
        "train_data['Age'].hist(bins=30, alpha=0.7, ax=axes[1,0])\n",
        "axes[1,0].set_title('Age Distribution')\n",
        "axes[1,0].set_xlabel('Age')\n",
        "\n",
        "train_data['Fare'].hist(bins=30, alpha=0.7, ax=axes[1,1])\n",
        "axes[1,1].set_title('Fare Distribution')\n",
        "axes[1,1].set_xlabel('Fare')\n",
        "\n",
        "plt.tight_layout()\n",
        "plt.show()\n",
        "\n",
        "print(\"Key Insights:\")\n",
        "print(f\"Female survival rate: {train_data[train_data['Sex']=='female']['Survived'].mean():.3f}\")\n",
        "print(f\"Male survival rate: {train_data[train_data['Sex']=='male']['Survived'].mean():.3f}\")\n",
        "print(f\"1st class survival rate: {train_data[train_data['Pclass']==1]['Survived'].mean():.3f}\")\n",
        "print(f\"3rd class survival rate: {train_data[train_data['Pclass']==3]['Survived'].mean():.3f}\")"
      ]
    },
    {
      "cell_type": "markdown",
      "id": "ada2dc3e",
      "metadata": {
        "id": "ada2dc3e"
      },
      "source": [
        "## 4. Data Preprocessing and Feature Engineering"
      ]
    },
    {
      "cell_type": "code",
      "execution_count": 5,
      "id": "186d6cfb",
      "metadata": {
        "id": "186d6cfb",
        "outputId": "3dd4eced-b3a7-435d-e6b0-d2d54b415ba0"
      },
      "outputs": [
        {
          "name": "stdout",
          "output_type": "stream",
          "text": [
            "Simple preprocessing function created!\n"
          ]
        }
      ],
      "source": [
        "def preprocess_data(df):\n",
        "    data = df.copy()\n",
        "\n",
        "    data['Age'] = data['Age'].fillna(data['Age'].mean())\n",
        "\n",
        "    data['Embarked'] = data['Embarked'].fillna('S')\n",
        "\n",
        "    data['Fare'] = data['Fare'].fillna(data['Fare'].mean())\n",
        "\n",
        "    data['Sex'] = data['Sex'].map({'male': 1, 'female': 0})\n",
        "\n",
        "    data['Embarked'] = data['Embarked'].map({'S': 0, 'C': 1, 'Q': 2})\n",
        "\n",
        "    data['FamilySize'] = data['SibSp'] + data['Parch']\n",
        "\n",
        "    features = ['Pclass', 'Sex', 'Age', 'SibSp', 'Parch', 'Fare', 'Embarked', 'FamilySize']\n",
        "\n",
        "    return data[features]\n",
        "\n",
        "print(\"Simple preprocessing function created!\")"
      ]
    },
    {
      "cell_type": "code",
      "execution_count": 6,
      "id": "2e3d9158",
      "metadata": {
        "id": "2e3d9158",
        "outputId": "57623b31-43a9-4403-eb7b-7b3e3afcc552"
      },
      "outputs": [
        {
          "name": "stdout",
          "output_type": "stream",
          "text": [
            "Training features shape: (712, 8)\n",
            "Validation features shape: (179, 8)\n",
            "Features used: ['Pclass', 'Sex', 'Age', 'SibSp', 'Parch', 'Fare', 'Embarked', 'FamilySize']\n"
          ]
        }
      ],
      "source": [
        "X = preprocess_data(train_data)\n",
        "y = train_data['Survived']\n",
        "\n",
        "X_train, X_val, y_train, y_val = train_test_split(X, y, test_size=0.2, random_state=42, stratify=y)\n",
        "\n",
        "print(f\"Training features shape: {X_train.shape}\")\n",
        "print(f\"Validation features shape: {X_val.shape}\")\n",
        "print(f\"Features used: {list(X.columns)}\")"
      ]
    },
    {
      "cell_type": "markdown",
      "id": "ddfc5526",
      "metadata": {
        "id": "ddfc5526"
      },
      "source": [
        "## 5. Train Decision Tree Model (Main Algorithm)"
      ]
    },
    {
      "cell_type": "code",
      "execution_count": 7,
      "id": "b1252d7e",
      "metadata": {
        "id": "b1252d7e",
        "outputId": "73f5a8fb-51df-4170-cba4-81cb45a5bdd7"
      },
      "outputs": [
        {
          "name": "stdout",
          "output_type": "stream",
          "text": [
            "Training Decision Tree model...\n",
            "Training Accuracy: 0.8638\n",
            "Validation Accuracy: 0.7598\n",
            "Decision Tree training completed!\n"
          ]
        }
      ],
      "source": [
        "decision_tree = DecisionTreeClassifier(random_state=42, max_depth=5)\n",
        "\n",
        "print(\"Training Decision Tree model...\")\n",
        "decision_tree.fit(X_train, y_train)\n",
        "\n",
        "train_predictions = decision_tree.predict(X_train)\n",
        "val_predictions = decision_tree.predict(X_val)\n",
        "\n",
        "train_accuracy = accuracy_score(y_train, train_predictions)\n",
        "val_accuracy = accuracy_score(y_val, val_predictions)\n",
        "\n",
        "print(f\"Training Accuracy: {train_accuracy:.4f}\")\n",
        "print(f\"Validation Accuracy: {val_accuracy:.4f}\")\n",
        "print(\"Decision Tree training completed!\")"
      ]
    },
    {
      "cell_type": "markdown",
      "id": "d5882e97",
      "metadata": {
        "id": "d5882e97"
      },
      "source": [
        "## 6. Evaluate Decision Tree Performance"
      ]
    },
    {
      "cell_type": "code",
      "execution_count": 8,
      "id": "11e5d8bf",
      "metadata": {
        "id": "11e5d8bf",
        "outputId": "ca60d00a-4ef1-4de3-b464-d42c42cfd4e1"
      },
      "outputs": [
        {
          "name": "stdout",
          "output_type": "stream",
          "text": [
            "Decision Tree Model Performance:\n",
            "Training Accuracy: 0.8638\n",
            "Validation Accuracy: 0.7598\n"
          ]
        },
        {
          "data": {
            "image/png": "[encoded data removed]",
            "text/plain": [
              "<Figure size 800x500 with 1 Axes>"
            ]
          },
          "metadata": {},
          "output_type": "display_data"
        }
      ],
      "source": [
        "print(\"Decision Tree Model Performance:\")\n",
        "print(f\"Training Accuracy: {train_accuracy:.4f}\")\n",
        "print(f\"Validation Accuracy: {val_accuracy:.4f}\")\n",
        "\n",
        "plt.figure(figsize=(8, 5))\n",
        "accuracies = [train_accuracy, val_accuracy]\n",
        "labels = ['Training', 'Validation']\n",
        "colors = ['lightblue', 'lightcoral']\n",
        "\n",
        "bars = plt.bar(labels, accuracies, color=colors)\n",
        "plt.title('Decision Tree Accuracy', fontsize=14)\n",
        "plt.ylabel('Accuracy')\n",
        "plt.ylim(0.7, 1.0)\n",
        "\n",
        "for bar, acc in zip(bars, accuracies):\n",
        "    plt.text(bar.get_x() + bar.get_width()/2, bar.get_height() + 0.01,\n",
        "             f'{acc:.3f}', ha='center', va='bottom')\n",
        "\n",
        "plt.show()"
      ]
    },
    {
      "cell_type": "code",
      "execution_count": 9,
      "id": "cdc7b038",
      "metadata": {
        "id": "cdc7b038",
        "outputId": "aa37c64b-bb6f-4e57-9e3e-4ed9ff347c75"
      },
      "outputs": [
        {
          "data": {
            "image/png": "[encoded data removed]",
            "text/plain": [
              "<Figure size 600x500 with 2 Axes>"
            ]
          },
          "metadata": {},
          "output_type": "display_data"
        },
        {
          "name": "stdout",
          "output_type": "stream",
          "text": [
            "Classification Report:\n",
            "              precision    recall  f1-score   support\n",
            "\n",
            "        Died       0.77      0.87      0.82       110\n",
            "    Survived       0.74      0.58      0.65        69\n",
            "\n",
            "    accuracy                           0.76       179\n",
            "   macro avg       0.75      0.73      0.73       179\n",
            "weighted avg       0.76      0.76      0.75       179\n",
            "\n"
          ]
        }
      ],
      "source": [
        "plt.figure(figsize=(6, 5))\n",
        "cm = confusion_matrix(y_val, val_predictions)\n",
        "sns.heatmap(cm, annot=True, fmt='d', cmap='Blues',\n",
        "            xticklabels=['Died', 'Survived'],\n",
        "            yticklabels=['Died', 'Survived'])\n",
        "plt.title('Decision Tree - Confusion Matrix')\n",
        "plt.ylabel('Actual')\n",
        "plt.xlabel('Predicted')\n",
        "plt.show()\n",
        "\n",
        "print(\"Classification Report:\")\n",
        "print(classification_report(y_val, val_predictions, target_names=['Died', 'Survived']))"
      ]
    },
    {
      "cell_type": "markdown",
      "id": "c1fa15dd",
      "metadata": {
        "id": "c1fa15dd"
      },
      "source": [
        "## 7. Try Other Algorithms"
      ]
    },
    {
      "cell_type": "code",
      "execution_count": 10,
      "id": "0a37c5a1",
      "metadata": {
        "id": "0a37c5a1",
        "outputId": "781f66b1-328d-40ab-8ccf-ac5370b17c07"
      },
      "outputs": [
        {
          "name": "stdout",
          "output_type": "stream",
          "text": [
            "Testing other algorithms for comparison...\n",
            "Decision Tree Accuracy: 0.7598 ← Main algorithm\n",
            "Logistic Regression:    0.8045\n",
            "KNN:                    0.6983\n",
            "Neural Network:         0.7989\n"
          ]
        }
      ],
      "source": [
        "print(\"Testing other algorithms for comparison...\")\n",
        "\n",
        "# Logistic Regression\n",
        "logistic = LogisticRegression(random_state=42, max_iter=1000)\n",
        "logistic.fit(X_train, y_train)\n",
        "logistic_acc = accuracy_score(y_val, logistic.predict(X_val))\n",
        "\n",
        "# KNN\n",
        "knn = KNeighborsClassifier(n_neighbors=5)\n",
        "knn.fit(X_train, y_train)\n",
        "knn_acc = accuracy_score(y_val, knn.predict(X_val))\n",
        "\n",
        "# Neural Network\n",
        "neural_net = MLPClassifier(hidden_layer_sizes=(50,), max_iter=500, random_state=42)\n",
        "neural_net.fit(X_train, y_train)\n",
        "nn_acc = accuracy_score(y_val, neural_net.predict(X_val))\n",
        "\n",
        "print(f\"Decision Tree Accuracy: {val_accuracy:.4f} ← Main algorithm\")\n",
        "print(f\"Logistic Regression:    {logistic_acc:.4f}\")\n",
        "print(f\"KNN:                    {knn_acc:.4f}\")\n",
        "print(f\"Neural Network:         {nn_acc:.4f}\")"
      ]
    },
    {
      "cell_type": "markdown",
      "id": "1b691bfe",
      "metadata": {
        "id": "1b691bfe"
      },
      "source": [
        "## 8. Final Prediction"
      ]
    },
    {
      "cell_type": "code",
      "execution_count": 11,
      "id": "781e39a5",
      "metadata": {
        "id": "781e39a5"
      },
      "outputs": [],
      "source": [
        "final_decision_tree = DecisionTreeClassifier(random_state=42, max_depth=5)\n",
        "final_decision_tree.fit(X, y)\n",
        "\n",
        "X_test = preprocess_data(test_data)\n",
        "\n",
        "test_predictions = final_decision_tree.predict(X_test)\n",
        "\n",
        "submission = pd.DataFrame({\n",
        "    'PassengerId': test_data['PassengerId'],\n",
        "    'Survived': test_predictions\n",
        "})\n",
        "\n",
        "submission.to_csv('prediction.csv', index=False)"
      ]
    }
  ],
  "metadata": {
    "colab": {
      "provenance": []
    },
    "kernelspec": {
      "display_name": "Python 3",
      "language": "python",
      "name": "python3"
    },
    "language_info": {
      "codemirror_mode": {
        "name": "ipython",
        "version": 3
      },
      "file_extension": ".py",
      "mimetype": "text/x-python",
      "name": "python",
      "nbconvert_exporter": "python",
      "pygments_lexer": "ipython3",
      "version": "3.11.13"
    }
  },
  "nbformat": 4,
  "nbformat_minor": 5
}
