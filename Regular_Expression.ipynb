{
  "nbformat": 4,
  "nbformat_minor": 0,
  "metadata": {
    "colab": {
      "provenance": [],
      "authorship_tag": "ABX9TyMSeeX4xzlbFT9SjLPE5ibe",
      "include_colab_link": true
    },
    "kernelspec": {
      "name": "python3",
      "display_name": "Python 3"
    },
    "language_info": {
      "name": "python"
    }
  },
  "cells": [
    {
      "cell_type": "markdown",
      "metadata": {
        "id": "view-in-github",
        "colab_type": "text"
      },
      "source": [
        "<a href=\"https://colab.research.google.com/github/MahmudGalib7/AI-Olympiad/blob/master/Regular_Expression.ipynb\" target=\"_parent\"><img src=\"https://colab.research.google.com/assets/colab-badge.svg\" alt=\"Open In Colab\"/></a>"
      ]
    },
    {
      "cell_type": "code",
      "execution_count": 1,
      "metadata": {
        "id": "EMWlOeJjI0IM"
      },
      "outputs": [],
      "source": [
        "import re"
      ]
    },
    {
      "cell_type": "code",
      "source": [
        "name = \"Keith Moratte\"\n",
        "sentence = \"The National Antheme of Bangladesh is made by the poet so called Rabindranath Thagore\"\n",
        "count_the = re.findall(\"the\", sentence)\n",
        "len(count_the), count_the"
      ],
      "metadata": {
        "colab": {
          "base_uri": "https://localhost:8080/"
        },
        "id": "VogfVCNVJEoP",
        "outputId": "584dbb87-2283-4969-c20d-b83c6c63cac2"
      },
      "execution_count": 66,
      "outputs": [
        {
          "output_type": "execute_result",
          "data": {
            "text/plain": [
              "(2, ['the', 'the'])"
            ]
          },
          "metadata": {},
          "execution_count": 66
        }
      ]
    },
    {
      "cell_type": "code",
      "source": [
        "re.findall(\"^The\", sentence) # starting value -> ^\n",
        "# re.findall(\"Thagore$\", sentence) # ending value -> $"
      ],
      "metadata": {
        "colab": {
          "base_uri": "https://localhost:8080/"
        },
        "id": "Q_6yg_iSJu1d",
        "outputId": "d2e3db98-aa76-41b6-9768-e535ede31a4c"
      },
      "execution_count": 61,
      "outputs": [
        {
          "output_type": "execute_result",
          "data": {
            "text/plain": [
              "['The']"
            ]
          },
          "metadata": {},
          "execution_count": 61
        }
      ]
    },
    {
      "cell_type": "code",
      "source": [
        "search = re.search('The', sentence)\n",
        "search.start()"
      ],
      "metadata": {
        "colab": {
          "base_uri": "https://localhost:8080/"
        },
        "id": "OCzGKzqRKlux",
        "outputId": "7cc78f57-86e7-4247-b440-7209d383a695"
      },
      "execution_count": 27,
      "outputs": [
        {
          "output_type": "execute_result",
          "data": {
            "text/plain": [
              "0"
            ]
          },
          "metadata": {},
          "execution_count": 27
        }
      ]
    },
    {
      "cell_type": "code",
      "source": [
        "s = \"The.*me\"\n",
        "re.findall(s, sentence)\n",
        "search_things = re.search(s, sentence)\n",
        "search_things"
      ],
      "metadata": {
        "colab": {
          "base_uri": "https://localhost:8080/"
        },
        "id": "NvWbaY8HKp9F",
        "outputId": "3ee07b9f-2525-4ec3-9c78-bb4f55ba804f"
      },
      "execution_count": 51,
      "outputs": [
        {
          "output_type": "execute_result",
          "data": {
            "text/plain": [
              "<re.Match object; span=(0, 20), match='The National Antheme'>"
            ]
          },
          "metadata": {},
          "execution_count": 51
        }
      ]
    },
    {
      "cell_type": "code",
      "source": [
        "new_sentence = re.split('\\s', sentence)\n",
        "new_sentence"
      ],
      "metadata": {
        "colab": {
          "base_uri": "https://localhost:8080/"
        },
        "id": "yt-tHMS4Kqkq",
        "outputId": "dacd8c53-d6ed-4e7c-dc04-d614f60610bc"
      },
      "execution_count": 67,
      "outputs": [
        {
          "output_type": "execute_result",
          "data": {
            "text/plain": [
              "['The',\n",
              " 'National',\n",
              " 'Antheme',\n",
              " 'of',\n",
              " 'Bangladesh',\n",
              " 'is',\n",
              " 'made',\n",
              " 'by',\n",
              " 'the',\n",
              " 'poet',\n",
              " 'so',\n",
              " 'called',\n",
              " 'Rabindranath',\n",
              " 'Thagore']"
            ]
          },
          "metadata": {},
          "execution_count": 67
        }
      ]
    },
    {
      "cell_type": "code",
      "source": [],
      "metadata": {
        "id": "eG6cpi_EOC6f"
      },
      "execution_count": null,
      "outputs": []
    },
    {
      "cell_type": "code",
      "source": [],
      "metadata": {
        "id": "Uf8Gd7RHODet"
      },
      "execution_count": null,
      "outputs": []
    },
    {
      "cell_type": "code",
      "source": [],
      "metadata": {
        "id": "T5Sx_sL3OD9Z"
      },
      "execution_count": null,
      "outputs": []
    },
    {
      "cell_type": "code",
      "source": [],
      "metadata": {
        "id": "MYrY8AXYKq6A"
      },
      "execution_count": null,
      "outputs": []
    },
    {
      "cell_type": "code",
      "source": [],
      "metadata": {
        "id": "MKF3mRkUKrLy"
      },
      "execution_count": null,
      "outputs": []
    }
  ]
}