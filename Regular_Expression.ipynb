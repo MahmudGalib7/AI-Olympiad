{
  "nbformat": 4,
  "nbformat_minor": 0,
  "metadata": {
    "colab": {
      "provenance": [],
      "authorship_tag": "ABX9TyMifRrI04HzGG+WDZTbBYpE",
      "include_colab_link": true
    },
    "kernelspec": {
      "name": "python3",
      "display_name": "Python 3"
    },
    "language_info": {
      "name": "python"
    }
  },
  "cells": [
    {
      "cell_type": "markdown",
      "metadata": {
        "id": "view-in-github",
        "colab_type": "text"
      },
      "source": [
        "<a href=\"https://colab.research.google.com/github/MahmudGalib7/AI-Olympiad/blob/master/Regular_Expression.ipynb\" target=\"_parent\"><img src=\"https://colab.research.google.com/assets/colab-badge.svg\" alt=\"Open In Colab\"/></a>"
      ]
    },
    {
      "cell_type": "code",
      "execution_count": 2,
      "metadata": {
        "id": "EMWlOeJjI0IM"
      },
      "outputs": [],
      "source": [
        "import re"
      ]
    },
    {
      "cell_type": "code",
      "source": [
        "name = \"Keith Moratte\"\n",
        "sentence = \"The National Antheme of Bangladesh is made by the poet so called Rabindranath Thagore whom is known as is [ ironice s-> idk ]?\"\n",
        "count_the = re.findall(\"the\", sentence)\n",
        "len(count_the), count_the"
      ],
      "metadata": {
        "colab": {
          "base_uri": "https://localhost:8080/"
        },
        "id": "VogfVCNVJEoP",
        "outputId": "394d8530-8b9c-4595-dd48-3d0d0a8dcbd9"
      },
      "execution_count": 20,
      "outputs": [
        {
          "output_type": "execute_result",
          "data": {
            "text/plain": [
              "(2, ['the', 'the'])"
            ]
          },
          "metadata": {},
          "execution_count": 20
        }
      ]
    },
    {
      "cell_type": "code",
      "source": [
        "re.findall(\"^The\", sentence) # starting value -> ^\n",
        "# re.findall(\"Thagore$\", sentence) # ending value -> $"
      ],
      "metadata": {
        "colab": {
          "base_uri": "https://localhost:8080/"
        },
        "id": "Q_6yg_iSJu1d",
        "outputId": "32c88d95-a95b-4270-ba05-480f2226bbbd"
      },
      "execution_count": 21,
      "outputs": [
        {
          "output_type": "execute_result",
          "data": {
            "text/plain": [
              "['The']"
            ]
          },
          "metadata": {},
          "execution_count": 21
        }
      ]
    },
    {
      "cell_type": "code",
      "source": [
        "search = re.search('The', sentence)\n",
        "search.start()\n",
        "search.group(0)"
      ],
      "metadata": {
        "colab": {
          "base_uri": "https://localhost:8080/",
          "height": 36
        },
        "id": "OCzGKzqRKlux",
        "outputId": "a00f157a-9532-408e-cafd-9b59e3ea3dff"
      },
      "execution_count": 34,
      "outputs": [
        {
          "output_type": "execute_result",
          "data": {
            "text/plain": [
              "'The'"
            ],
            "application/vnd.google.colaboratory.intrinsic+json": {
              "type": "string"
            }
          },
          "metadata": {},
          "execution_count": 34
        }
      ]
    },
    {
      "cell_type": "code",
      "source": [
        "s = \"The.*me\"\n",
        "re.findall(s, sentence)\n",
        "search_things = re.search(s, sentence)\n",
        "search_things"
      ],
      "metadata": {
        "colab": {
          "base_uri": "https://localhost:8080/"
        },
        "id": "NvWbaY8HKp9F",
        "outputId": "3ee07b9f-2525-4ec3-9c78-bb4f55ba804f"
      },
      "execution_count": null,
      "outputs": [
        {
          "output_type": "execute_result",
          "data": {
            "text/plain": [
              "<re.Match object; span=(0, 20), match='The National Antheme'>"
            ]
          },
          "metadata": {},
          "execution_count": 51
        }
      ]
    },
    {
      "cell_type": "code",
      "source": [
        "new_sentence = re.split('\\s', sentence)\n",
        "new_sentence"
      ],
      "metadata": {
        "colab": {
          "base_uri": "https://localhost:8080/"
        },
        "id": "yt-tHMS4Kqkq",
        "outputId": "dacd8c53-d6ed-4e7c-dc04-d614f60610bc"
      },
      "execution_count": null,
      "outputs": [
        {
          "output_type": "execute_result",
          "data": {
            "text/plain": [
              "['The',\n",
              " 'National',\n",
              " 'Antheme',\n",
              " 'of',\n",
              " 'Bangladesh',\n",
              " 'is',\n",
              " 'made',\n",
              " 'by',\n",
              " 'the',\n",
              " 'poet',\n",
              " 'so',\n",
              " 'called',\n",
              " 'Rabindranath',\n",
              " 'Thagore']"
            ]
          },
          "metadata": {},
          "execution_count": 67
        }
      ]
    },
    {
      "cell_type": "code",
      "source": [
        "s = \"hello1 xworld2 x34\"\n",
        "re.findall(r\"\\d+\", s)\n",
        "re.findall(r\"\\D+\", s)\n",
        "re.findall(r\"\\w+\", s)"
      ],
      "metadata": {
        "id": "eG6cpi_EOC6f",
        "outputId": "e41e9fed-62b8-42ce-8e27-da0226dea009",
        "colab": {
          "base_uri": "https://localhost:8080/"
        }
      },
      "execution_count": 17,
      "outputs": [
        {
          "output_type": "execute_result",
          "data": {
            "text/plain": [
              "['hello1', 'xworld2', 'x34']"
            ]
          },
          "metadata": {},
          "execution_count": 17
        }
      ]
    }
  ]
}